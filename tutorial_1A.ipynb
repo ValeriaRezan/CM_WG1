{
 "cells": [
  {
   "cell_type": "markdown",
   "id": "255c348a",
   "metadata": {
    "id": "255c348a"
   },
   "source": [
    "# Cognitive Modelling - Tutorial 1 - Part 1\n",
    "Anne Urai, 2024\n",
    "Thanks to Alexandre Hyafil, BAMB 2024"
   ]
  },
  {
   "cell_type": "markdown",
   "id": "1ea8e4da",
   "metadata": {
    "id": "1ea8e4da"
   },
   "source": [
    "# Introduction\n",
    "\n",
    "<font color='blue'>\n",
    "In this tutorial, we will cover all the steps involved in modelling behavioral data, from formalizing your hypotheses into a computational model to comparing which model is best supported by the data, using a toy example from a sensory discrimination task. The idea is to map all the types of analyses we may want to perform on behavioral data, before we address in the following days how to perform these analyses for more complex models. More specifically we will cover\n",
    "\n",
    "- **Model definition**: from box diagram to a statistical description\n",
    "- **Model simulation**: to understand how the model behaves\n",
    "- **Model estimation**: fitting model parameters to a behavioral dataset, and assessing the uncertainty about these parameter estimates\n",
    "- **Model validation**: checking whether a fitted model reproduces the key qualitative features of the dataset\n",
    "- **Model comparison**: comparing which model better accounts for experimental data\n",
    "- **Model and parameter recovery**: estimating how well we can estimate model parameters or discriminate between models using a particular behavioral paradigm\n",
    "\n",
    "In this first part of the tutorial, we will cover model definition, simulation and estimation.\n",
    "\n",
    "Our behavioral dataset corresponds to a standard two-alternative forced-choice task, where on each trial subjects have to report on the direction of motion of a stimulus with a binary response (left or right). The stimulus strength (or stimulus evidence) is varied across trial. Crucially, in a random subset of trials, brain area X is deactivated (through optogenetics/TMS), leading to a decrease in task performance. Our data is thus composed of one dependent variable (choice $r$, binary, say L/R) and two independent variables:\n",
    "- stimulus evidence $s$ (signed, distributed between 9 values)\n",
    "- condition $c$ (binary, 'default' or 'manipulation')\n",
    "\n",
    "Here's the question we want to address with our modelling exercice: **is the deactivation affecting stimulus processing or purely decision-making abilities?** In the latter case, deactivating brain area X would not cause any change in stimulus processing, but would promote random responses unrelated to the sensory percept (i.e. 'lapses') in a subset of trials.</font>"
   ]
  },
  {
   "cell_type": "markdown",
   "id": "3f8d9564",
   "metadata": {
    "id": "3f8d9564"
   },
   "source": [
    "## Summary statistics: the psychometric curve\n",
    "Before starting to define our models, we need to specify what characteristics of the experimental data we expect them to capture. This often corresponds to summary statistics, i.e. the average value of the behavioral variable in different sets of trials (different experimental conditions). In the case of sensory tasks with binary choices, we usually extract the **psychometric curve**, corresponding to the proportion of rightward choices as a function of stimulus evidence. We plot the psychometric curve below, separately for control trials and deactivation trials. This change of the relationship between stimulus and choice is precisely what we expect our model to capture."
   ]
  },
  {
   "cell_type": "code",
   "execution_count": 41,
   "id": "bdfc5c8a",
   "metadata": {
    "id": "bdfc5c8a"
   },
   "outputs": [],
   "source": [
    "# first, import relevant packages\n",
    "import numpy as np\n",
    "import pandas as pd\n",
    "import matplotlib.pyplot as plt\n",
    "from scipy.stats import norm\n",
    "import scipy.optimize as optimize\n",
    "import ipywidgets as widgets       # interactive display"
   ]
  },
  {
   "cell_type": "code",
   "execution_count": 42,
   "id": "e76edaa0",
   "metadata": {
    "colab": {
     "base_uri": "https://localhost:8080/",
     "height": 206
    },
    "executionInfo": {
     "elapsed": 6,
     "status": "ok",
     "timestamp": 1725874061692,
     "user": {
      "displayName": "Matīss Kalnāre",
      "userId": "16005814247036848275"
     },
     "user_tz": -120
    },
    "id": "e76edaa0",
    "outputId": "11e039ec-bc13-446e-c78a-4fdd3c212599"
   },
   "outputs": [
    {
     "data": {
      "text/html": [
       "<div>\n",
       "<style scoped>\n",
       "    .dataframe tbody tr th:only-of-type {\n",
       "        vertical-align: middle;\n",
       "    }\n",
       "\n",
       "    .dataframe tbody tr th {\n",
       "        vertical-align: top;\n",
       "    }\n",
       "\n",
       "    .dataframe thead th {\n",
       "        text-align: right;\n",
       "    }\n",
       "</style>\n",
       "<table border=\"1\" class=\"dataframe\">\n",
       "  <thead>\n",
       "    <tr style=\"text-align: right;\">\n",
       "      <th></th>\n",
       "      <th>Unnamed: 0</th>\n",
       "      <th>stimulus</th>\n",
       "      <th>condition</th>\n",
       "      <th>response</th>\n",
       "    </tr>\n",
       "  </thead>\n",
       "  <tbody>\n",
       "    <tr>\n",
       "      <th>0</th>\n",
       "      <td>0</td>\n",
       "      <td>0.0</td>\n",
       "      <td>manipulation</td>\n",
       "      <td>0</td>\n",
       "    </tr>\n",
       "    <tr>\n",
       "      <th>1</th>\n",
       "      <td>1</td>\n",
       "      <td>-2.0</td>\n",
       "      <td>manipulation</td>\n",
       "      <td>0</td>\n",
       "    </tr>\n",
       "    <tr>\n",
       "      <th>2</th>\n",
       "      <td>2</td>\n",
       "      <td>3.0</td>\n",
       "      <td>control</td>\n",
       "      <td>1</td>\n",
       "    </tr>\n",
       "    <tr>\n",
       "      <th>3</th>\n",
       "      <td>3</td>\n",
       "      <td>2.0</td>\n",
       "      <td>control</td>\n",
       "      <td>1</td>\n",
       "    </tr>\n",
       "    <tr>\n",
       "      <th>4</th>\n",
       "      <td>4</td>\n",
       "      <td>1.0</td>\n",
       "      <td>control</td>\n",
       "      <td>1</td>\n",
       "    </tr>\n",
       "  </tbody>\n",
       "</table>\n",
       "</div>"
      ],
      "text/plain": [
       "   Unnamed: 0  stimulus     condition  response\n",
       "0           0       0.0  manipulation         0\n",
       "1           1      -2.0  manipulation         0\n",
       "2           2       3.0       control         1\n",
       "3           3       2.0       control         1\n",
       "4           4       1.0       control         1"
      ]
     },
     "execution_count": 42,
     "metadata": {},
     "output_type": "execute_result"
    }
   ],
   "source": [
    "# load the data\n",
    "#df_exp = pd.read_csv(\"https://raw.githubusercontent.com/bambschool/BAMB2023/main/1-modeling_101/dataset_tutorial1.csv?token=GHSAT0AAAAAACFH2I2TUEKMMHZMREHILHOUZFXCWCA\")\n",
    "df_exp = pd.read_csv(\"dataset_tutorial1.csv\")\n",
    "df_exp.head()"
   ]
  },
  {
   "cell_type": "code",
   "execution_count": 43,
   "id": "378a5bf3",
   "metadata": {
    "colab": {
     "base_uri": "https://localhost:8080/",
     "height": 449
    },
    "executionInfo": {
     "elapsed": 1051,
     "status": "ok",
     "timestamp": 1725873872396,
     "user": {
      "displayName": "Valeria Rezan",
      "userId": "14959999159695863073"
     },
     "user_tz": -120
    },
    "id": "378a5bf3",
    "outputId": "95853a64-0f01-4ad2-db8f-454768f0a52f"
   },
   "outputs": [
    {
     "data": {
      "image/png": "[encoded data removed]",
      "text/plain": [
       "<Figure size 432x288 with 1 Axes>"
      ]
     },
     "metadata": {
      "needs_background": "light"
     },
     "output_type": "display_data"
    }
   ],
   "source": [
    "#define function to plot psychometric curve for dataset separately for control trials and deactivation trials\n",
    "def plot_data_psychometric(df):\n",
    "    \"\"\"\n",
    "    Plots the psychometric function separately for control and deactivation trials.\n",
    "    Args:\n",
    "       df (dataframe): dataset.\n",
    "    \"\"\"\n",
    "    # plot psychometric curve for control trials\n",
    "    mask = df.condition=='control' # select control trials\n",
    "    df[mask].groupby('stimulus').response.agg(('mean','sem')).plot(yerr='sem', fmt = 'bo', ax=plt.gca(), legend=False);\n",
    "\n",
    "    # plot psychometric curve for manipulation trials\n",
    "    mask = df.condition=='manipulation' # select manipulation trials\n",
    "    df[mask].groupby('stimulus').response.agg(('mean','sem')).plot(yerr='sem', fmt = 'ro', ax=plt.gca(), legend=False);\n",
    "\n",
    "    plt.legend(('control','manipulation (brain deactivated)'));\n",
    "    plt.xlabel('stimulus evidence');\n",
    "    plt.ylabel('p(rightward)');\n",
    "\n",
    "# apply the function on the experimental dataframe\n",
    "plot_data_psychometric(df_exp)"
   ]
  },
  {
   "cell_type": "markdown",
   "id": "4617d2b2",
   "metadata": {
    "id": "4617d2b2"
   },
   "source": [
    "# PART I\n",
    "\n",
    "In this first part of the tutorial, we will cover **three modelling steps: model definition, model simulations and model estimation**.\n",
    "\n",
    "# 1. Model definition\n",
    "<font color='blue'>\n",
    "We want to define two models, where each model embodies one of the two hypotheses:\n",
    "- **model A**: the manipulation affects stimulus processing\n",
    "- **model B**: the manipulation leads to a certain proportion of lapses\n",
    "\n",
    "Both of these models should take the stimulus evidence and experimental condition (*manipulation* vs. *control*) as input and output the binary choice.\n",
    "We will follow two successive steps in order to derive a complete statistical description for each of these models.\n",
    "\n",
    "\n",
    "## 1.1 Box diagram description\n",
    "\n",
    "First, for each of the two models, draw a box diagram describing how responses are produced and how the experimental manipulation interferes with this production, according to that model. Each diagram should feature boxes describing the causal interaction between the dependent and independent variables (the *observed variables*), and possibly other non-measured variables (the *unobserved variables* or *latent variables*). (Following conventions for Probabilistic Graphical Models, we can colour the observed variable in grey, and leave boxes for latent variables in white).\n",
    "</font>"
   ]
  },
  {
   "cell_type": "markdown",
   "id": "62ab5f3e",
   "metadata": {
    "id": "62ab5f3e"
   },
   "source": [
    "What other variables could we introduce?"
   ]
  },
  {
   "cell_type": "markdown",
   "id": "678ee2bd",
   "metadata": {
    "id": "678ee2bd"
   },
   "source": []
  },
  {
   "cell_type": "markdown",
   "id": "a42c4868",
   "metadata": {
    "id": "a42c4868"
   },
   "source": [
    "## 1.2 Statistical model: signal detection theory\n",
    "\n",
    "Now, in order to be fitted to actual data, we need a **statistical model of behavior**, whereby the modelled behavior (here binary choices) is a stochastic variable that depends on our dependent variables. Here, because the output is binary, each statistical model is described by an equation linking the probability for the binary response (say rightwards responses) as a function of the dependent variables (stimulus and manupulation). To do so, we need to formalize each model one step further by expliciting in our box diagram how each variable in a box is computed from the value of the other variables (through a deterministic or probabilistic relationship to the variables that influence it).\n",
    "\n",
    "We will use signal-detection theory (SDT) to turn each diagram into a statistical description. In SDT, the perceived stimulus evidence (or percept) is simply the value of the true stimulus evidence (set by the experimenter) corrupted by some gaussian noise:\n",
    "$\\hat s = s + \\epsilon$ where $\\epsilon$ is gaussian noise of variance $\\sigma^2$.\n",
    "The decision is taken from the position of $\\hat s$ w.r.t a threshold $T$. As the noise variance goes larger, the psychometric curve gets shallower and the accuracy of the model deteriorates.\n",
    "\n",
    "In model A, we assume different noise levels in the two conditions ($\\sigma^2_d$ and $\\sigma^2_m$), corresponding to different precisions of sensory encoding.\n",
    "In model B, we assume that the noise variance is not affected by the manipulation. However, in deactivation trials, with a probability $\\lambda$, the decision is not based on the stimulus but randomly drawn (with probability $q$ giving response R, probability $1-q$ giving response L).\n",
    "\n",
    "We now see the **parameter set $\\theta$** for each model:\n",
    "- $T$, $\\sigma^2_d$ and $\\sigma^2_m$ in model A\n",
    "- $T$, $\\sigma^2_d$, $\\lambda$ and $q$ in model B\n",
    "\n",
    "To simplify things, we will assume no particular bias between L and R responses, so $T=0$ and $q=0.5$. Note that in this case both models have only two free parameters, there are thus equated in terms of complexity.\n",
    "\n",
    "We will focus on model B for the sake of time. Adapting the analyses for model A is left as optional."
   ]
  },
  {
   "cell_type": "markdown",
   "id": "960fa56c",
   "metadata": {
    "id": "960fa56c"
   },
   "source": [
    "# PART I - 2. Model simulations\n",
    "\n",
    "## 2.1 Simulate\n"
   ]
  },
  {
   "cell_type": "code",
   "execution_count": 44,
   "id": "22d1d40d",
   "metadata": {
    "id": "22d1d40d"
   },
   "outputs": [],
   "source": [
    "# Define a function that simulates model B\n",
    "\n",
    "def simulate_modelB(s, c, sigma_d=1, Lambda=0.2, T=0, q=0.5):\n",
    "    \"\"\"\n",
    "    Simulates model B (proportion of lapses provoked by deactivation).\n",
    "    Args:\n",
    "        s (list): sensory evidence, for each trial\n",
    "        c (list): experimental condition, for each trial\n",
    "        sigma_d (scalar): variance of the sensory noise\n",
    "        Lambda (scalar): probability of lapse trial\n",
    "        T (scalar): threshold\n",
    "        q (scalar): probability of rightward choice for a lapse trial\n",
    "    Returns\n",
    "        list: binary choice, for each trial\n",
    "    \"\"\"\n",
    "    n = len(s) # number of trials\n",
    "\n",
    "\n",
    "    # noisy stimulus (or percept), i.e. true stimulus evidence contaminated by noise\n",
    "    s_hat = s + np.random.normal(0, sigma_d, n )\n",
    "\n",
    "    # binary response based on stimulus (1 if noisy stimulus is above threshold, 0 otherwise)\n",
    "    r_stim = np.where(s_hat>T, 1, 0)\n",
    "\n",
    "    # generate boolean array (True if lapse; only in Manipulation trials)\n",
    "    isLapse = np.random.choice(a=[1, 0], p=[Lambda, 1 - Lambda], size=n)\n",
    "\n",
    "    # lapse responses (if lapse trial)\n",
    "    r_lapse = np.random.choice(a=[0, 1], p=[q, 1 - q], size=n)\n",
    "    manipultaed = np.where(c==0, 1, 0)\n",
    "    index_lapse = np.where(isLapse + manipultaed > 1, 1, 0)\n",
    "    # final binary response (lapse response if lapse trial, sensory-based response otherwise)\n",
    "    r = np.where( index_lapse==1, r_lapse, r_stim)\n",
    "    return r\n"
   ]
  },
  {
   "cell_type": "markdown",
   "id": "a9796dd7",
   "metadata": {
    "id": "a9796dd7"
   },
   "source": [
    "Use the function above to simulate model B (with model parameters defined below) on the same set of the trials as the experimental dataset.\n",
    "(Note: it is important to compare simulations with the exact same set of trials as the original dataset to facilitate comparison)"
   ]
  },
  {
   "cell_type": "code",
   "execution_count": 63,
   "id": "fcecd5a2",
   "metadata": {
    "colab": {
     "base_uri": "https://localhost:8080/",
     "height": 206
    },
    "executionInfo": {
     "elapsed": 218,
     "status": "ok",
     "timestamp": 1725874462082,
     "user": {
      "displayName": "Matīss Kalnāre",
      "userId": "16005814247036848275"
     },
     "user_tz": -120
    },
    "id": "fcecd5a2",
    "outputId": "a8dc81c9-ca17-435a-b45d-ee887377cb72"
   },
   "outputs": [
    {
     "data": {
      "text/html": [
       "<div>\n",
       "<style scoped>\n",
       "    .dataframe tbody tr th:only-of-type {\n",
       "        vertical-align: middle;\n",
       "    }\n",
       "\n",
       "    .dataframe tbody tr th {\n",
       "        vertical-align: top;\n",
       "    }\n",
       "\n",
       "    .dataframe thead th {\n",
       "        text-align: right;\n",
       "    }\n",
       "</style>\n",
       "<table border=\"1\" class=\"dataframe\">\n",
       "  <thead>\n",
       "    <tr style=\"text-align: right;\">\n",
       "      <th></th>\n",
       "      <th>stimulus</th>\n",
       "      <th>condition</th>\n",
       "      <th>response</th>\n",
       "    </tr>\n",
       "  </thead>\n",
       "  <tbody>\n",
       "    <tr>\n",
       "      <th>0</th>\n",
       "      <td>0.0</td>\n",
       "      <td>manipulation</td>\n",
       "      <td>1</td>\n",
       "    </tr>\n",
       "    <tr>\n",
       "      <th>1</th>\n",
       "      <td>-2.0</td>\n",
       "      <td>manipulation</td>\n",
       "      <td>0</td>\n",
       "    </tr>\n",
       "    <tr>\n",
       "      <th>2</th>\n",
       "      <td>3.0</td>\n",
       "      <td>control</td>\n",
       "      <td>1</td>\n",
       "    </tr>\n",
       "    <tr>\n",
       "      <th>3</th>\n",
       "      <td>2.0</td>\n",
       "      <td>control</td>\n",
       "      <td>1</td>\n",
       "    </tr>\n",
       "    <tr>\n",
       "      <th>4</th>\n",
       "      <td>1.0</td>\n",
       "      <td>control</td>\n",
       "      <td>1</td>\n",
       "    </tr>\n",
       "  </tbody>\n",
       "</table>\n",
       "</div>"
      ],
      "text/plain": [
       "   stimulus     condition  response\n",
       "0       0.0  manipulation         1\n",
       "1      -2.0  manipulation         0\n",
       "2       3.0       control         1\n",
       "3       2.0       control         1\n",
       "4       1.0       control         1"
      ]
     },
     "execution_count": 63,
     "metadata": {},
     "output_type": "execute_result"
    }
   ],
   "source": [
    "# parameters of model B\n",
    "T = 0 #decision threshold\n",
    "sigma = 1 # decision noise\n",
    "Lambda = .2 # proportion of lapses\n",
    "q = 0.5 # probability of rightward response if lapse\n",
    "\n",
    "#use generate experimental conditions from actual dataset\n",
    "c = df_exp['condition'] # condition\n",
    "s = df_exp['stimulus'] #stimulus evidence\n",
    "\n",
    "#simulate model\n",
    "r = simulate_modelB(s, c, sigma_d=sigma, Lambda=Lambda, T=T, q=q)\n",
    "\n",
    "# create dataframe for simulated data\n",
    "df_modelB = pd.DataFrame({'stimulus': s, 'condition':c, 'response':r})\n",
    "df_modelB.head()"
   ]
  },
  {
   "cell_type": "markdown",
   "id": "ec93a32d",
   "metadata": {
    "id": "ec93a32d"
   },
   "source": [
    "## 2.2 Simulated psychometric curve\n",
    "Now plot the psychometric curve, separately for each condition, for the data simulated from model B."
   ]
  },
  {
   "cell_type": "code",
   "execution_count": 64,
   "id": "6ec62665",
   "metadata": {
    "colab": {
     "base_uri": "https://localhost:8080/",
     "height": 472
    },
    "executionInfo": {
     "elapsed": 692,
     "status": "ok",
     "timestamp": 1725873996601,
     "user": {
      "displayName": "Valeria Rezan",
      "userId": "14959999159695863073"
     },
     "user_tz": -120
    },
    "id": "6ec62665",
    "outputId": "b277cbad-4442-40aa-95d5-0a10b704a0dd"
   },
   "outputs": [
    {
     "data": {
      "image/png": "[encoded data removed]",
      "text/plain": [
       "<Figure size 432x288 with 1 Axes>"
      ]
     },
     "metadata": {
      "needs_background": "light"
     },
     "output_type": "display_data"
    }
   ],
   "source": [
    "plot_data_psychometric(df_modelB)\n",
    "plt.title('model B simulations');"
   ]
  },
  {
   "cell_type": "code",
   "execution_count": 65,
   "id": "be377816",
   "metadata": {
    "id": "be377816"
   },
   "outputs": [],
   "source": [
    "# Define a function that simulates model A\n",
    "def simulate_modelA(s, c, sigma_d=1, sigma_m=1.5, T=0):\n",
    "    \"\"\"\n",
    "    Simulates model A (change in sensory noise with deactivation).\n",
    "    Args:\n",
    "        s (list): sensory evidence, for each trial\n",
    "        c (list): experimental condition, for each trial\n",
    "        sigma_d (scalar): variance of the sensory noise in control trials\n",
    "        sigma_m (scalar): variance of the sensory noise in deactivation trials\n",
    "        T (scalar): threshold\n",
    "    Returns \n",
    "        list: binary choice, for each trial\n",
    "    \"\"\"\n",
    "    n = len(s)\n",
    "\n",
    "    # variance of noise for each trial\n",
    "    sigma = np.where( c=='control', sigma_d, sigma_m)\n",
    "\n",
    "    # noisy stimulus (or percept), i.e. true stimulus evidence contaminated by noise\n",
    "    s_hat = s + np.random.normal(0, sigma, n )\n",
    "\n",
    "    # binary response (1 if noisy stimulus is above threshold, 0 otherwise)\n",
    "    r = np.where(s_hat>T, 1, 0)  # Response based on stimulus (SDT)\n",
    "    return r\n"
   ]
  },
  {
   "cell_type": "code",
   "execution_count": 48,
   "id": "bde004ea",
   "metadata": {
    "id": "bde004ea",
    "outputId": "f114bef3-a356-40ef-e87c-d65e41e1eacd"
   },
   "outputs": [
    {
     "data": {
      "text/html": [
       "<div>\n",
       "<style scoped>\n",
       "    .dataframe tbody tr th:only-of-type {\n",
       "        vertical-align: middle;\n",
       "    }\n",
       "\n",
       "    .dataframe tbody tr th {\n",
       "        vertical-align: top;\n",
       "    }\n",
       "\n",
       "    .dataframe thead th {\n",
       "        text-align: right;\n",
       "    }\n",
       "</style>\n",
       "<table border=\"1\" class=\"dataframe\">\n",
       "  <thead>\n",
       "    <tr style=\"text-align: right;\">\n",
       "      <th></th>\n",
       "      <th>stimulus</th>\n",
       "      <th>condition</th>\n",
       "      <th>response</th>\n",
       "    </tr>\n",
       "  </thead>\n",
       "  <tbody>\n",
       "    <tr>\n",
       "      <th>0</th>\n",
       "      <td>0.0</td>\n",
       "      <td>manipulation</td>\n",
       "      <td>1</td>\n",
       "    </tr>\n",
       "    <tr>\n",
       "      <th>1</th>\n",
       "      <td>-2.0</td>\n",
       "      <td>manipulation</td>\n",
       "      <td>0</td>\n",
       "    </tr>\n",
       "    <tr>\n",
       "      <th>2</th>\n",
       "      <td>3.0</td>\n",
       "      <td>control</td>\n",
       "      <td>1</td>\n",
       "    </tr>\n",
       "    <tr>\n",
       "      <th>3</th>\n",
       "      <td>2.0</td>\n",
       "      <td>control</td>\n",
       "      <td>1</td>\n",
       "    </tr>\n",
       "    <tr>\n",
       "      <th>4</th>\n",
       "      <td>1.0</td>\n",
       "      <td>control</td>\n",
       "      <td>0</td>\n",
       "    </tr>\n",
       "  </tbody>\n",
       "</table>\n",
       "</div>"
      ],
      "text/plain": [
       "   stimulus     condition  response\n",
       "0       0.0  manipulation         1\n",
       "1      -2.0  manipulation         0\n",
       "2       3.0       control         1\n",
       "3       2.0       control         1\n",
       "4       1.0       control         0"
      ]
     },
     "execution_count": 48,
     "metadata": {},
     "output_type": "execute_result"
    }
   ],
   "source": [
    "# parameters of model A\n",
    "T = 0 #decision threshold\n",
    "sigma_d = 1 # decision noise\n",
    "sigma_m = 2 # proportion of lapses\n",
    "\n",
    "\n",
    "#use generate experimental conditions from actual dataset\n",
    "c =df_exp['condition'] # condition\n",
    "s = df_exp['stimulus'] #stimulus evidence\n",
    "\n",
    "#simulate model\n",
    "r = simulate_modelA(s, c, sigma_d=sigma_d, sigma_m=sigma_m, T=T)\n",
    "\n",
    "df_modelA = pd.DataFrame({'stimulus': s, 'condition':c, 'response':r})\n",
    "\n",
    "df_modelA.head()"
   ]
  },
  {
   "cell_type": "code",
   "execution_count": 49,
   "id": "47e477db",
   "metadata": {
    "id": "47e477db",
    "outputId": "c24dbee4-314f-4b1c-be2e-9fdfab16f64b"
   },
   "outputs": [
    {
     "data": {
      "image/png": "[encoded data removed]",
      "text/plain": [
       "<Figure size 432x288 with 1 Axes>"
      ]
     },
     "metadata": {
      "needs_background": "light"
     },
     "output_type": "display_data"
    }
   ],
   "source": [
    "plot_data_psychometric(df_modelB)\n",
    "plt.title('model A simulations');"
   ]
  },
  {
   "cell_type": "markdown",
   "id": "608a7eb6",
   "metadata": {
    "id": "608a7eb6"
   },
   "source": [
    "# PART I - 3. Model estimation\n",
    "\n",
    "We are lucky that in both models we can formulate analytically the statistical link between the observed variable (response) and the conditions.\n",
    "In simple signal detection theory, $p(r=1|s) = \\int_{\\hat s} p(r=1|\\hat s)p(\\hat s|s)d\\hat s = \\int_{\\hat s>T} \\mathcal N(\\hat s;s,\\sigma^2)d\\hat s=\\Phi( \\frac{s-T}{\\sigma})$ where $\\Phi$ is the cumulative standard normal function.\n",
    "\n",
    "So for model B (in deactivation trials): $p_B(r=1|s) = (1-\\lambda)\\Phi( \\frac{s}{\\sigma}) + \\lambda/2$\n",
    "\n",
    "## 3.1 Naive fitting\n",
    "\n",
    "A naive fitting procedure consists in adjusting manually the parameters in each model to try to visually match the experimental and theoretical psychometric curves. Here we just adjust the parameters by hand so that the predicted value captures the summary statistics qualitatively.\n",
    "To do so, first, define a function that computes the probability of a rightward choice according to model B as a function of stimulus evidence and experimental condition. Then define another function which uses this function to plot the theoretical psychometric curves according to model B, now at all continuous valus of stimulus evidence between -3 and 3 (and not just the 9 discrete values explored in the dataset). One of the benefit of using a statistical model is to draw predictions for experimental conditions not seen in the original dataset."
   ]
  },
  {
   "cell_type": "code",
   "execution_count": 50,
   "id": "a9c18519",
   "metadata": {
    "id": "a9c18519"
   },
   "outputs": [],
   "source": [
    "# define probability of rightward choices according to model B (using equations above)\n",
    "\n",
    "def p_modelB(s,c, sigma_d, Lambda):\n",
    "    \"\"\"\n",
    "    Computes the probability of rightward choices according to model B\n",
    "    Args:\n",
    "        s (list): sensory evidence, for each trial\n",
    "        c (list): experimental condition, for each trial\n",
    "        sigma_d (scalar): variance of the sensory noise\n",
    "        Lambda (scalar): probability of lapse trial\n",
    "    Returns:\n",
    "        list: probability of rightward choice, for each trial\n",
    "    \"\"\"\n",
    "    # probability of rightward choice if control trial\n",
    "    p_ctrl = norm.cdf((s)/sigma_d)\n",
    "\n",
    "    # probability of rightward choice if manipulated condition\n",
    "    p_manip = Lambda/2 + (1-Lambda)*norm.cdf((s)/sigma_d)\n",
    "\n",
    "    # probability of rightward choice in control and manipulated condition\n",
    "    p = np.where(c=='control', p_ctrl, p_manip)\n",
    "    return p\n",
    "\n",
    "\n",
    "# Plot psychometric curve at continuous values, for given model\n",
    "def plot_model(p_model):\n",
    "    \"\"\"\n",
    "    Args:\n",
    "        p_model (function): computes the probability of rightward choices according to corresponding model\n",
    "    \"\"\"\n",
    "    # define 100 angle points linearly spaced between -3 and 3\n",
    "    s_linspace = np.linspace(-3,3,100)\n",
    "\n",
    "    p_standard = p_model(s_linspace,'control')\n",
    "    p_manipulation = p_model(s_linspace,'manipulation')\n",
    "\n",
    "    # plot fitted psychometric functions\n",
    "    plt.plot(s_linspace, p_standard, 'b', label=\"control\")\n",
    "    plt.plot(s_linspace, p_manipulation, 'r', label=\"manipulation\")\n",
    "\n",
    "    plt.ylabel('p(rightward)')"
   ]
  },
  {
   "cell_type": "markdown",
   "id": "b2921cb7",
   "metadata": {
    "id": "b2921cb7"
   },
   "source": [
    "Now use the widget below to adjust parameters to yield the best possible fit between experimental and theoretical psychometric curves. Is the fit good enough?"
   ]
  },
  {
   "cell_type": "code",
   "execution_count": 51,
   "id": "4d609650",
   "metadata": {
    "colab": {
     "base_uri": "https://localhost:8080/",
     "height": 536,
     "referenced_widgets": [
      "b4a833d6914e4fd082e813a7d740a475",
      "79ef7722a55d4483a798b2c12d7402c8",
      "81d4822ace474262967f866f14d71c16",
      "4866edf29e614801a0fb3a8d69476496",
      "61fad03160db4a248e163b7c5a3f240f",
      "0a1de6e8e6124782af650c2fb1dcf281",
      "9db09ce2f1754652b00bb05125e47c79",
      "ecb00bd59b5b43af858065d9a1af5691",
      "eeae377faae947438d10b9d768729e69",
      "b56dd26e790f443c94a58a94e792d0a3"
     ]
    },
    "executionInfo": {
     "elapsed": 645,
     "status": "ok",
     "timestamp": 1725875766003,
     "user": {
      "displayName": "Valeria Rezan",
      "userId": "14959999159695863073"
     },
     "user_tz": -120
    },
    "id": "4d609650",
    "outputId": "086a7534-7e37-4f42-bf0c-afbcb451f679"
   },
   "outputs": [
    {
     "data": {
      "application/vnd.jupyter.widget-view+json": {
       "model_id": "bca62da61da34dc49b59c9ff7eccb2a3",
       "version_major": 2,
       "version_minor": 0
      },
      "text/plain": [
       "interactive(children=(FloatSlider(value=1.0, description='sigma_hat', max=2.0), FloatSlider(value=0.5, descrip…"
      ]
     },
     "metadata": {},
     "output_type": "display_data"
    }
   ],
   "source": [
    "#@title\n",
    "\n",
    "#@markdown Make sure you execute this cell to enable the widget!\n",
    "\n",
    "@widgets.interact(\n",
    "    sigma_hat=widgets.FloatSlider(1.0, min=0.0, max=2.0), # default, min and max values for noise variance param\n",
    "    Lambda_hat=widgets.FloatSlider(0.5, min=0.0, max=1.0)) # defaul, min and max values for lapse parameter\n",
    "\n",
    "def plot_data_estimate(sigma_hat, Lambda_hat):\n",
    "\n",
    "    # anonymous function taking stimulus and condition as argument, and computing the proba of response according to model\n",
    "    p_modelB_fun = lambda s1,c1: p_modelB(s1, c1, sigma_d=sigma_hat, Lambda=Lambda_hat)\n",
    "\n",
    "    # plot model predictions\n",
    "    plot_model(p_modelB_fun)\n",
    "\n",
    "    # plot psychometric curve on top\n",
    "    plot_data_psychometric(df_exp)\n",
    "\n",
    "    plt.title('model B');\n",
    "    plt.show(); # needed for Colab"
   ]
  },
  {
   "cell_type": "markdown",
   "id": "33ce5fa5",
   "metadata": {
    "id": "33ce5fa5"
   },
   "source": [
    "(Optional) Repeat the same for model A."
   ]
  },
  {
   "cell_type": "code",
   "execution_count": 52,
   "id": "24452856",
   "metadata": {
    "id": "24452856"
   },
   "outputs": [],
   "source": [
    "# define probability of rightward choices according to model A (using equations above)\n",
    "def p_modelA(s,c, sigma_d, sigma_m):\n",
    "    \"\"\"\n",
    "    Computes the probability of rightward choices according to model A\n",
    "    Args:\n",
    "        s (list): sensory evidence, for each trial\n",
    "        c (list): experimental condition, for each trial\n",
    "        sigma_d (scalar): variance of the sensory noise in control trials\n",
    "        sigma_m (scalar): variance of the sensory noise in deactivation trials\n",
    "    Returns:\n",
    "        list: probability of rightward choice, for each trial\n",
    "    \"\"\"\n",
    "    # probability of rightward choice if control trial\n",
    "    p_ctrl = norm.cdf((s)/sigma_d)\n",
    "\n",
    "    # probability of rightward choice if manipulated condition\n",
    "    p_manip = norm.cdf((s)/sigma_m)\n",
    "\n",
    "    # probability of rightward choice in control and manipulated condition\n",
    "    p = np.where(c=='control', p_ctrl, p_manip)\n",
    "    return p\n",
    "   "
   ]
  },
  {
   "cell_type": "code",
   "execution_count": 53,
   "id": "009079ab",
   "metadata": {
    "colab": {
     "referenced_widgets": [
      "0ebdbba7f5bf4fb686d4cb92d2192737"
     ]
    },
    "id": "009079ab",
    "outputId": "be1aa0aa-c912-493f-f4b7-fcd9cd256af0"
   },
   "outputs": [
    {
     "data": {
      "application/vnd.jupyter.widget-view+json": {
       "model_id": "e6a5297508f140c68c8d2c5ff1beeadb",
       "version_major": 2,
       "version_minor": 0
      },
      "text/plain": [
       "interactive(children=(FloatSlider(value=1.0, description='sigma_d_hat', max=2.0), FloatSlider(value=1.0, descr…"
      ]
     },
     "metadata": {},
     "output_type": "display_data"
    }
   ],
   "source": [
    "@widgets.interact(\n",
    "    sigma_d_hat=widgets.FloatSlider(1.0, min=0.0, max=2.0),\n",
    "    sigma_m_hat=widgets.FloatSlider(1.0, min=0.0, max=2.0))\n",
    "\n",
    "\n",
    "def plot_data_estimate(sigma_d_hat, sigma_m_hat):\n",
    "\n",
    "    # plot model predictions\n",
    "    plot_modelA_fun = lambda s,c: p_modelA(s,c,sigma_d=sigma_d_hat, sigma_m=sigma_m_hat)\n",
    "\n",
    "    # plot psychometric curve on top\n",
    "    plot_model(plot_modelA_fun)\n",
    "    plot_data_psychometric( df_exp )\n",
    "\n",
    "    plt.title('model A');\n",
    "    plt.show(); # needed for Colab"
   ]
  },
  {
   "cell_type": "markdown",
   "id": "9847aa7e",
   "metadata": {
    "id": "9847aa7e"
   },
   "source": [
    "## 3.2 Likelihood function\n",
    "Now we will use a more principled approach to parameter estimation by looking for the set of parameters that maximize a given metric, namely the **log-likelihood** of the data. The likelihood function is a function, defined for a given model and dataset, that takes the **parameters as input**.\n",
    "Complete the following function to compute the log-likelihood of model for a given set of parameters."
   ]
  },
  {
   "cell_type": "code",
   "execution_count": 54,
   "id": "ba0b5002",
   "metadata": {
    "executionInfo": {
     "elapsed": 248,
     "status": "ok",
     "timestamp": 1725876458303,
     "user": {
      "displayName": "Valeria Rezan",
      "userId": "14959999159695863073"
     },
     "user_tz": -120
    },
    "id": "ba0b5002"
   },
   "outputs": [],
   "source": [
    "def LogLikelihood_modelB(df, sigma_d, Lambda):\n",
    "    \"\"\"\n",
    "    Computes the log-likelihood of model B with certain parameter set\n",
    "    Args:\n",
    "        df (dataframe): dataset\n",
    "        c (list): experimental condition, for each trial\n",
    "        sigma_d (scalar): variance of the sensory noise\n",
    "        Lambda (scalar): probability of lapse trial\n",
    "    Returns:\n",
    "        scalar: log-likelihood of model B\n",
    "    \"\"\"\n",
    "    # p of rightward choice for each trial in dataset, according to model B\n",
    "    p = p_modelB(df['stimulus'], df['condition'], sigma_d, Lambda)\n",
    "\n",
    "    # likelihood for each trial (=p if choice is rightward, 1-p otherwise)\n",
    "    lh = np.where(df['response']==1, p, 1-p)\n",
    "\n",
    "    # Handle division by zero\n",
    "    lh = np.where(lh == 0, np.finfo(float).eps, lh)\n",
    "\n",
    "    # log-likelihood for whole dataset (sum of log-likelihood of individual trials)\n",
    "    LLH = np.sum(np.log(lh))\n",
    "\n",
    "    return LLH"
   ]
  },
  {
   "cell_type": "markdown",
   "id": "ab2c2602",
   "metadata": {
    "id": "ab2c2602"
   },
   "source": [
    "Compute the log-likelihood of model B at the values of the parameters obtained by naive fitting."
   ]
  },
  {
   "cell_type": "code",
   "execution_count": 55,
   "id": "4f76e4a1",
   "metadata": {
    "colab": {
     "base_uri": "https://localhost:8080/"
    },
    "executionInfo": {
     "elapsed": 270,
     "status": "ok",
     "timestamp": 1725876461395,
     "user": {
      "displayName": "Valeria Rezan",
      "userId": "14959999159695863073"
     },
     "user_tz": -120
    },
    "id": "4f76e4a1",
    "outputId": "ff6f9a74-fce3-47cd-800a-e48b8ebc70fb"
   },
   "outputs": [
    {
     "name": "stdout",
     "output_type": "stream",
     "text": [
      "-1039.9934789612719\n"
     ]
    }
   ],
   "source": [
    "llh_B = LogLikelihood_modelB(df_exp, 0.9, 0.3)\n",
    "print(llh_B)"
   ]
  },
  {
   "cell_type": "markdown",
   "id": "e2acebd9",
   "metadata": {
    "id": "e2acebd9"
   },
   "source": [
    "## 3.3 Maximum likelihood estimation\n",
    "\n",
    "Now that we have a function of parameters that defines a metric for how well the model accounts for the data, we will look for the parameter space in search for the parameter set that maximizes this metric.\n",
    "First, plot the value of the LLH as a function of both parameters, as a coloured plot."
   ]
  },
  {
   "cell_type": "code",
   "execution_count": 56,
   "id": "a7090083",
   "metadata": {
    "colab": {
     "base_uri": "https://localhost:8080/",
     "height": 473
    },
    "executionInfo": {
     "elapsed": 7526,
     "status": "ok",
     "timestamp": 1725877249693,
     "user": {
      "displayName": "Valeria Rezan",
      "userId": "14959999159695863073"
     },
     "user_tz": -120
    },
    "id": "a7090083",
    "outputId": "bef71af3-8707-43dd-e49f-324f1bdb1f26"
   },
   "outputs": [
    {
     "data": {
      "image/png": "[encoded data removed]",
      "text/plain": [
       "<Figure size 432x288 with 2 Axes>"
      ]
     },
     "metadata": {
      "needs_background": "light"
     },
     "output_type": "display_data"
    }
   ],
   "source": [
    "# define linearly space values of Lambda and sigma\n",
    "Lambda = np.arange(0.005, 0.96, 0.025)\n",
    "sigma = np.arange(0.3, 3.0, 0.025)\n",
    "\n",
    "# compute all possible pairs of parameter values (defining a grid)\n",
    "LL, ss = np.meshgrid(Lambda, sigma)\n",
    "\n",
    "# compute LLH for each of these parameter sets\n",
    "LLH = np.zeros(LL.shape)\n",
    "for j in range(LL.shape[0]):\n",
    "    for k in range(LL.shape[1]):\n",
    "        LLH[j,k] = LogLikelihood_modelB(df_exp, sigma[j], Lambda[k])\n",
    "\n",
    "# define function to plot Log-Likelihood profile\n",
    "def show_LL(LLH,Lambda,sigma):\n",
    "    im=plt.imshow(np.flipud(LLH), extent=[Lambda[0],Lambda[-1],sigma[0],sigma[-1]]);\n",
    "    plt.gca().set_aspect(0.4)\n",
    "    plt.ylabel('$\\sigma^2$')\n",
    "    plt.xlabel('$\\lambda$')\n",
    "    plt.colorbar(im)\n",
    "\n",
    "show_LL(LLH,Lambda,sigma)\n",
    "plt.title('LLH of model B');"
   ]
  },
  {
   "cell_type": "markdown",
   "id": "2cdfa5c7",
   "metadata": {
    "id": "2cdfa5c7"
   },
   "source": [
    "Finally, we can identify the maximum-likelihood parameters by using an optimization algorithm over the LLH function. Because most optimization tools are defined for minimization rather than maximization, we will actually minimize the negative Log-Likelihood (which is equivalent to maximize the LLH)."
   ]
  },
  {
   "cell_type": "code",
   "execution_count": 57,
   "id": "612ba32e-6646-43d8-a2b2-8b0bdb6e876e",
   "metadata": {
    "colab": {
     "base_uri": "https://localhost:8080/"
    },
    "executionInfo": {
     "elapsed": 238,
     "status": "ok",
     "timestamp": 1725877656073,
     "user": {
      "displayName": "Valeria Rezan",
      "userId": "14959999159695863073"
     },
     "user_tz": -120
    },
    "id": "612ba32e-6646-43d8-a2b2-8b0bdb6e876e",
    "outputId": "4de3618b-212d-4ab7-fa30-2e9466a91d52"
   },
   "outputs": [
    {
     "name": "stdout",
     "output_type": "stream",
     "text": [
      "sigma_hat^2 = 0.9770947319889381\n",
      "Lambda_hat = 0.22677752682176988\n"
     ]
    }
   ],
   "source": [
    "# Define the objective function (the to be maximized)\n",
    "def neg_llh_modelB(pp, df):\n",
    "    \"\"\"\n",
    "    Computes the neg-LLH for model B.\n",
    "    Args:\n",
    "        - pp (list): set of parameters (sigma_d,Lambda)\n",
    "        - df (dataframe): dataset\n",
    "    Returns;\n",
    "        - scalar: negative LLH\n",
    "    \"\"\"\n",
    "    return -LogLikelihood_modelB(df, pp[0], pp[1])\n",
    "\n",
    "\n",
    "# Define the bounds for each variable\n",
    "bounds = [(0.1, 10), (0.01, 1)]  # Example bounds: both variables are between 0 and 1\n",
    "\n",
    "# Initial guess for parameter set\n",
    "x0 = [0.75, 0.5]\n",
    "\n",
    "# Perform the optimization with bounds\n",
    "result = optimize.minimize(neg_llh_modelB, x0=x0, args=(df_exp), bounds=bounds)\n",
    "\n",
    "# Retrieve the optimized parameters\n",
    "(sigma_hat, Lambda_hat) = result.x\n",
    "\n",
    "# print\n",
    "print(\"sigma_hat^2 =\",sigma_hat)\n",
    "print(\"Lambda_hat =\",Lambda_hat)"
   ]
  },
  {
   "cell_type": "markdown",
   "id": "b2472c70",
   "metadata": {
    "id": "b2472c70"
   },
   "source": [
    "Add the maximum likelihood parameters as a red dot on the LLH profile."
   ]
  },
  {
   "cell_type": "code",
   "execution_count": 58,
   "id": "fa121853-6135-48c7-899a-40c0103dc162",
   "metadata": {
    "colab": {
     "base_uri": "https://localhost:8080/",
     "height": 490
    },
    "executionInfo": {
     "elapsed": 850,
     "status": "ok",
     "timestamp": 1725877690360,
     "user": {
      "displayName": "Valeria Rezan",
      "userId": "14959999159695863073"
     },
     "user_tz": -120
    },
    "id": "fa121853-6135-48c7-899a-40c0103dc162",
    "outputId": "5a22b8f4-5812-4b7f-8862-2dff3253890f"
   },
   "outputs": [
    {
     "data": {
      "text/plain": [
       "[<matplotlib.lines.Line2D at 0x240a7a3c160>]"
      ]
     },
     "execution_count": 58,
     "metadata": {},
     "output_type": "execute_result"
    },
    {
     "data": {
      "image/png": "[encoded data removed]",
      "text/plain": [
       "<Figure size 432x288 with 2 Axes>"
      ]
     },
     "metadata": {
      "needs_background": "light"
     },
     "output_type": "display_data"
    }
   ],
   "source": [
    "# plot LLH profile\n",
    "show_LL(LLH,Lambda,sigma)\n",
    "plt.title('LLH of model B');\n",
    "plt.plot(Lambda_hat, sigma_hat, 'ro')\n",
    "\n",
    "\n",
    "# add MLE parameters as red dot\n"
   ]
  },
  {
   "cell_type": "markdown",
   "id": "f801ede5",
   "metadata": {
    "id": "f801ede5"
   },
   "source": [
    "(Optional) Repeat maximum likelihood estimation, now for model A."
   ]
  },
  {
   "cell_type": "code",
   "execution_count": 59,
   "id": "c49c1701",
   "metadata": {
    "id": "c49c1701"
   },
   "outputs": [],
   "source": [
    "def LogLikelihood_modelA(df, sigma_d, sigma_m):\n",
    "    \"\"\"\n",
    "    Computes the log-likelihood of model A with certain parameter set\n",
    "    Args:\n",
    "        df (dataframe): dataset\n",
    "        c (list): experimental condition, for each trial\n",
    "        sigma_d (scalar): variance of the sensory noise in control trials\n",
    "        sigma_m (scalar): variance of the sensory noise in deactivation trials\n",
    "    Returns:\n",
    "        scalar: log-likelihood of model B\n",
    "    \"\"\"\n",
    "    p = p_modelA(df['stimulus'], df['condition'], sigma_d, sigma_m)\n",
    "\n",
    "    # likelihood for each trial (=p if choice is rightward, 1-p otherwise)\n",
    "    lh = np.where(df['response']==1, p, 1-p)\n",
    "\n",
    "    # Handle division by zero\n",
    "    lh = np.where(lh == 0, np.finfo(float).eps, lh)\n",
    "    LLH = np.sum(np.log(lh))\n",
    "\n",
    "\n",
    "    return LLH"
   ]
  },
  {
   "cell_type": "code",
   "execution_count": 60,
   "id": "f73547b9",
   "metadata": {
    "id": "f73547b9",
    "outputId": "08af1703-d8bf-4260-fecc-16a032b5fc48"
   },
   "outputs": [
    {
     "name": "stdout",
     "output_type": "stream",
     "text": [
      "sigma_d_hat^2 = 0.9369633478706346\n",
      "sigma_m_hat^2 = 1.947792122959031\n"
     ]
    }
   ],
   "source": [
    "# Define the objective function (the to be maximized)\n",
    "def neg_llh_modelA(pp, df):\n",
    "    \"\"\"\n",
    "    Computes the neg-LLH for model A.\n",
    "    Args:\n",
    "        - pp (list): set of parameters (sigma_d,sigma_m)\n",
    "        - df (dataframe): dataset\n",
    "    Returns;\n",
    "        - scalar: negative LLH\n",
    "    \"\"\"\n",
    "    return -LogLikelihood_modelA(df, pp[0], pp[1])\n",
    "\n",
    "# Define the bounds for each variable\n",
    "bounds = [(0.1, 10), (0.1, 10)]  # Example bounds: both variables are between 0 and 1\n",
    "\n",
    "# Initial guess for parameter set\n",
    "x0 = [0.75, 0.75]\n",
    "\n",
    "# Perform the optimization with bounds\n",
    "result = optimize.minimize(neg_llh_modelA, x0=x0, args=(df_exp), bounds=bounds).x\n",
    "\n",
    "# Retrieve the optimized parameters\n",
    "(sigma_d_hat, sigma_m_hat) = result\n",
    "\n",
    "# print\n",
    "print(\"sigma_d_hat^2 =\",sigma_d_hat) \n",
    "print(\"sigma_m_hat^2 =\",sigma_m_hat) "
   ]
  },
  {
   "cell_type": "code",
   "execution_count": 61,
   "id": "b996a0e4",
   "metadata": {},
   "outputs": [
    {
     "data": {
      "text/plain": [
       "[<matplotlib.lines.Line2D at 0x240a79b09d0>]"
      ]
     },
     "execution_count": 61,
     "metadata": {},
     "output_type": "execute_result"
    },
    {
     "data": {
      "image/png": "[encoded data removed]",
      "text/plain": [
       "<Figure size 432x288 with 2 Axes>"
      ]
     },
     "metadata": {
      "needs_background": "light"
     },
     "output_type": "display_data"
    }
   ],
   "source": [
    "# define linearly space values of Lambda and sigma\n",
    "Sigma_d = np.arange(0.3, 3.0, 0.025)\n",
    "Sigma_m = np.arange(0.3, 3.0, 0.025)\n",
    "\n",
    "# compute all possible pairs of parameter values (defining a grid)\n",
    "LL, ss = np.meshgrid(Sigma_d, Sigma_m)\n",
    "\n",
    "# compute LLH for each of these parameter sets\n",
    "LLH = np.zeros(LL.shape)\n",
    "for j in range(LL.shape[0]):\n",
    "    for k in range(LL.shape[1]):\n",
    "        LLH[j,k] = LogLikelihood_modelA(df_exp, Sigma_m[j], Sigma_d[k])\n",
    "\n",
    "def show_LLA(LLH,sigma_d,sigma_m):\n",
    "    im=plt.imshow(np.flipud(LLH), extent=[sigma_d[0],sigma_d[-1],sigma_m[0],sigma_m[-1]]);\n",
    "    plt.gca().set_aspect(0.4)\n",
    "    plt.ylabel('$\\sigma_d^2$')\n",
    "    plt.xlabel('$\\sigma_m^2$')\n",
    "    plt.colorbar(im)\n",
    "\n",
    "\n",
    "# plot LLH profile\n",
    "show_LLA(LLH, Sigma_d,Sigma_m)\n",
    "plt.title('LLH of model A');\n",
    "plt.plot(sigma_d_hat, sigma_m_hat, 'ro')"
   ]
  },
  {
   "cell_type": "code",
   "execution_count": 66,
   "id": "73f2cde5",
   "metadata": {},
   "outputs": [
    {
     "name": "stdout",
     "output_type": "stream",
     "text": [
      "LLH for model A with optimal peramters -1036.3790687858868\n",
      "LLH for model Bwith optimal peramters -1036.701845950021\n"
     ]
    }
   ],
   "source": [
    "\n",
    "print('LLH for model A with optimal peramters', LogLikelihood_modelA(df_exp, 0.93, 1.94 ))\n",
    "print('LLH for model Bwith optimal peramters', LogLikelihood_modelB(df_exp, 0.97, 0.22))"
   ]
  }
 ],
 "metadata": {
  "colab": {
   "provenance": []
  },
  "kernelspec": {
   "display_name": "Python 3 (ipykernel)",
   "language": "python",
   "name": "python3"
  },
  "language_info": {
   "codemirror_mode": {
    "name": "ipython",
    "version": 3
   },
   "file_extension": ".py",
   "mimetype": "text/x-python",
   "name": "python",
   "nbconvert_exporter": "python",
   "pygments_lexer": "ipython3",
   "version": "3.9.12"
  },
  "widgets": {
   "application/vnd.jupyter.widget-state+json": {
    "0a1de6e8e6124782af650c2fb1dcf281": {
     "model_module": "@jupyter-widgets/base",
     "model_module_version": "1.2.0",
     "model_name": "LayoutModel",
     "state": {
      "_model_module": "@jupyter-widgets/base",
      "_model_module_version": "1.2.0",
      "_model_name": "LayoutModel",
      "_view_count": null,
      "_view_module": "@jupyter-widgets/base",
      "_view_module_version": "1.2.0",
      "_view_name": "LayoutView",
      "align_content": null,
      "align_items": null,
      "align_self": null,
      "border": null,
      "bottom": null,
      "display": null,
      "flex": null,
      "flex_flow": null,
      "grid_area": null,
      "grid_auto_columns": null,
      "grid_auto_flow": null,
      "grid_auto_rows": null,
      "grid_column": null,
      "grid_gap": null,
      "grid_row": null,
      "grid_template_areas": null,
      "grid_template_columns": null,
      "grid_template_rows": null,
      "height": null,
      "justify_content": null,
      "justify_items": null,
      "left": null,
      "margin": null,
      "max_height": null,
      "max_width": null,
      "min_height": null,
      "min_width": null,
      "object_fit": null,
      "object_position": null,
      "order": null,
      "overflow": null,
      "overflow_x": null,
      "overflow_y": null,
      "padding": null,
      "right": null,
      "top": null,
      "visibility": null,
      "width": null
     }
    },
    "4866edf29e614801a0fb3a8d69476496": {
     "model_module": "@jupyter-widgets/output",
     "model_module_version": "1.0.0",
     "model_name": "OutputModel",
     "state": {
      "_dom_classes": [],
      "_model_module": "@jupyter-widgets/output",
      "_model_module_version": "1.0.0",
      "_model_name": "OutputModel",
      "_view_count": null,
      "_view_module": "@jupyter-widgets/output",
      "_view_module_version": "1.0.0",
      "_view_name": "OutputView",
      "layout": "IPY_MODEL_b56dd26e790f443c94a58a94e792d0a3",
      "msg_id": "",
      "outputs": [
       {
        "data": {
         "image/png": "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\n",
         "text/plain": "<Figure size 640x480 with 1 Axes>"
        },
        "metadata": {},
        "output_type": "display_data"
       }
      ]
     }
    },
    "61fad03160db4a248e163b7c5a3f240f": {
     "model_module": "@jupyter-widgets/base",
     "model_module_version": "1.2.0",
     "model_name": "LayoutModel",
     "state": {
      "_model_module": "@jupyter-widgets/base",
      "_model_module_version": "1.2.0",
      "_model_name": "LayoutModel",
      "_view_count": null,
      "_view_module": "@jupyter-widgets/base",
      "_view_module_version": "1.2.0",
      "_view_name": "LayoutView",
      "align_content": null,
      "align_items": null,
      "align_self": null,
      "border": null,
      "bottom": null,
      "display": null,
      "flex": null,
      "flex_flow": null,
      "grid_area": null,
      "grid_auto_columns": null,
      "grid_auto_flow": null,
      "grid_auto_rows": null,
      "grid_column": null,
      "grid_gap": null,
      "grid_row": null,
      "grid_template_areas": null,
      "grid_template_columns": null,
      "grid_template_rows": null,
      "height": null,
      "justify_content": null,
      "justify_items": null,
      "left": null,
      "margin": null,
      "max_height": null,
      "max_width": null,
      "min_height": null,
      "min_width": null,
      "object_fit": null,
      "object_position": null,
      "order": null,
      "overflow": null,
      "overflow_x": null,
      "overflow_y": null,
      "padding": null,
      "right": null,
      "top": null,
      "visibility": null,
      "width": null
     }
    },
    "79ef7722a55d4483a798b2c12d7402c8": {
     "model_module": "@jupyter-widgets/controls",
     "model_module_version": "1.5.0",
     "model_name": "FloatSliderModel",
     "state": {
      "_dom_classes": [],
      "_model_module": "@jupyter-widgets/controls",
      "_model_module_version": "1.5.0",
      "_model_name": "FloatSliderModel",
      "_view_count": null,
      "_view_module": "@jupyter-widgets/controls",
      "_view_module_version": "1.5.0",
      "_view_name": "FloatSliderView",
      "continuous_update": true,
      "description": "sigma_hat",
      "description_tooltip": null,
      "disabled": false,
      "layout": "IPY_MODEL_0a1de6e8e6124782af650c2fb1dcf281",
      "max": 2,
      "min": 0,
      "orientation": "horizontal",
      "readout": true,
      "readout_format": ".2f",
      "step": 0.1,
      "style": "IPY_MODEL_9db09ce2f1754652b00bb05125e47c79",
      "value": 0.9
     }
    },
    "81d4822ace474262967f866f14d71c16": {
     "model_module": "@jupyter-widgets/controls",
     "model_module_version": "1.5.0",
     "model_name": "FloatSliderModel",
     "state": {
      "_dom_classes": [],
      "_model_module": "@jupyter-widgets/controls",
      "_model_module_version": "1.5.0",
      "_model_name": "FloatSliderModel",
      "_view_count": null,
      "_view_module": "@jupyter-widgets/controls",
      "_view_module_version": "1.5.0",
      "_view_name": "FloatSliderView",
      "continuous_update": true,
      "description": "Lambda_hat",
      "description_tooltip": null,
      "disabled": false,
      "layout": "IPY_MODEL_ecb00bd59b5b43af858065d9a1af5691",
      "max": 1,
      "min": 0,
      "orientation": "horizontal",
      "readout": true,
      "readout_format": ".2f",
      "step": 0.1,
      "style": "IPY_MODEL_eeae377faae947438d10b9d768729e69",
      "value": 0.3
     }
    },
    "9db09ce2f1754652b00bb05125e47c79": {
     "model_module": "@jupyter-widgets/controls",
     "model_module_version": "1.5.0",
     "model_name": "SliderStyleModel",
     "state": {
      "_model_module": "@jupyter-widgets/controls",
      "_model_module_version": "1.5.0",
      "_model_name": "SliderStyleModel",
      "_view_count": null,
      "_view_module": "@jupyter-widgets/base",
      "_view_module_version": "1.2.0",
      "_view_name": "StyleView",
      "description_width": "",
      "handle_color": null
     }
    },
    "b4a833d6914e4fd082e813a7d740a475": {
     "model_module": "@jupyter-widgets/controls",
     "model_module_version": "1.5.0",
     "model_name": "VBoxModel",
     "state": {
      "_dom_classes": [
       "widget-interact"
      ],
      "_model_module": "@jupyter-widgets/controls",
      "_model_module_version": "1.5.0",
      "_model_name": "VBoxModel",
      "_view_count": null,
      "_view_module": "@jupyter-widgets/controls",
      "_view_module_version": "1.5.0",
      "_view_name": "VBoxView",
      "box_style": "",
      "children": [
       "IPY_MODEL_79ef7722a55d4483a798b2c12d7402c8",
       "IPY_MODEL_81d4822ace474262967f866f14d71c16",
       "IPY_MODEL_4866edf29e614801a0fb3a8d69476496"
      ],
      "layout": "IPY_MODEL_61fad03160db4a248e163b7c5a3f240f"
     }
    },
    "b56dd26e790f443c94a58a94e792d0a3": {
     "model_module": "@jupyter-widgets/base",
     "model_module_version": "1.2.0",
     "model_name": "LayoutModel",
     "state": {
      "_model_module": "@jupyter-widgets/base",
      "_model_module_version": "1.2.0",
      "_model_name": "LayoutModel",
      "_view_count": null,
      "_view_module": "@jupyter-widgets/base",
      "_view_module_version": "1.2.0",
      "_view_name": "LayoutView",
      "align_content": null,
      "align_items": null,
      "align_self": null,
      "border": null,
      "bottom": null,
      "display": null,
      "flex": null,
      "flex_flow": null,
      "grid_area": null,
      "grid_auto_columns": null,
      "grid_auto_flow": null,
      "grid_auto_rows": null,
      "grid_column": null,
      "grid_gap": null,
      "grid_row": null,
      "grid_template_areas": null,
      "grid_template_columns": null,
      "grid_template_rows": null,
      "height": null,
      "justify_content": null,
      "justify_items": null,
      "left": null,
      "margin": null,
      "max_height": null,
      "max_width": null,
      "min_height": null,
      "min_width": null,
      "object_fit": null,
      "object_position": null,
      "order": null,
      "overflow": null,
      "overflow_x": null,
      "overflow_y": null,
      "padding": null,
      "right": null,
      "top": null,
      "visibility": null,
      "width": null
     }
    },
    "ecb00bd59b5b43af858065d9a1af5691": {
     "model_module": "@jupyter-widgets/base",
     "model_module_version": "1.2.0",
     "model_name": "LayoutModel",
     "state": {
      "_model_module": "@jupyter-widgets/base",
      "_model_module_version": "1.2.0",
      "_model_name": "LayoutModel",
      "_view_count": null,
      "_view_module": "@jupyter-widgets/base",
      "_view_module_version": "1.2.0",
      "_view_name": "LayoutView",
      "align_content": null,
      "align_items": null,
      "align_self": null,
      "border": null,
      "bottom": null,
      "display": null,
      "flex": null,
      "flex_flow": null,
      "grid_area": null,
      "grid_auto_columns": null,
      "grid_auto_flow": null,
      "grid_auto_rows": null,
      "grid_column": null,
      "grid_gap": null,
      "grid_row": null,
      "grid_template_areas": null,
      "grid_template_columns": null,
      "grid_template_rows": null,
      "height": null,
      "justify_content": null,
      "justify_items": null,
      "left": null,
      "margin": null,
      "max_height": null,
      "max_width": null,
      "min_height": null,
      "min_width": null,
      "object_fit": null,
      "object_position": null,
      "order": null,
      "overflow": null,
      "overflow_x": null,
      "overflow_y": null,
      "padding": null,
      "right": null,
      "top": null,
      "visibility": null,
      "width": null
     }
    },
    "eeae377faae947438d10b9d768729e69": {
     "model_module": "@jupyter-widgets/controls",
     "model_module_version": "1.5.0",
     "model_name": "SliderStyleModel",
     "state": {
      "_model_module": "@jupyter-widgets/controls",
      "_model_module_version": "1.5.0",
      "_model_name": "SliderStyleModel",
      "_view_count": null,
      "_view_module": "@jupyter-widgets/base",
      "_view_module_version": "1.2.0",
      "_view_name": "StyleView",
      "description_width": "",
      "handle_color": null
     }
    }
   }
  }
 },
 "nbformat": 4,
 "nbformat_minor": 5
}
