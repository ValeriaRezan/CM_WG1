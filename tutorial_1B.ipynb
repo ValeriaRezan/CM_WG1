{
 "cells": [
  {
   "cell_type": "markdown",
   "id": "dde7abb5-89b2-4331-93b1-2763417b8c7c",
   "metadata": {},
   "source": [
    "\n",
    "# PART II\n",
    "## Parameter recovery, model validation, bootstrap\n",
    "\n",
    "**In this tutorial, we will see how to:**\n",
    "\n",
    "- Validate the modeling results against experimental data\n",
    "- Test model recovery\n",
    "- Use bootstrapping to estimate the uncertainty of fitted model parameters\n"
   ]
  },
  {
   "cell_type": "code",
   "execution_count": 1,
   "id": "9cfd2112-b239-4b11-9ccf-bf22e14f480f",
   "metadata": {},
   "outputs": [],
   "source": [
    "# # define the github path and authorization token\n",
    "# RAW_GITHUB_PATH = 'https://raw.githubusercontent.com/bambschool/BAMB2024/main/1-modeling_101/'\n",
    "\n",
    "# # define the list of files to be downloaded\n",
    "# files = ['tutorial_1_lib.py']\n",
    "\n",
    "# for file in files:\n",
    "#   !wget -O {file} \"{RAW_GITHUB_PATH}{file}\""
   ]
  },
  {
   "cell_type": "code",
   "execution_count": 1,
   "id": "c6a119bd-f9e8-45e6-8c2b-c06a54ae5b1f",
   "metadata": {},
   "outputs": [
    {
     "name": "stderr",
     "output_type": "stream",
     "text": [
      "c:\\Users\\Professional\\anaconda3\\lib\\site-packages\\scipy\\__init__.py:146: UserWarning: A NumPy version >=1.16.5 and <1.23.0 is required for this version of SciPy (detected version 1.26.4\n",
      "  warnings.warn(f\"A NumPy version >={np_minversion} and <{np_maxversion}\"\n"
     ]
    }
   ],
   "source": [
    "# import packages\n",
    "import numpy as np\n",
    "import pandas as pd\n",
    "import matplotlib.pyplot as plt\n",
    "from scipy.stats import norm\n",
    "from scipy.stats import pearsonr\n",
    "import scipy.optimize as optimize\n",
    "\n",
    "from tutorial_1_lib import *"
   ]
  },
  {
   "cell_type": "markdown",
   "id": "029078d0-8340-4301-89ca-f130c816da6a",
   "metadata": {},
   "source": [
    "**We use model B to generate fake data and in the following we assume that this is our actual experimental data.**"
   ]
  },
  {
   "cell_type": "code",
   "execution_count": 2,
   "id": "9fd75bb6-18f2-47c6-a499-2c2687ca5a43",
   "metadata": {},
   "outputs": [],
   "source": [
    "\n",
    "# generate fake data\n",
    "n = 2500 # number of trials\n",
    "stim_values = [-3, -2, -1, -.5, 0,.5, 1, 2, 3] # all possible values of stimulus evidence (i.e. signed stim strength)\n",
    "# parameters of model B\n",
    "sigma = 1 # decision noise\n",
    "Lambda = 0.2 # proportion of lapses\n",
    "#first generate experimental conditions for each trial\n",
    "c = np.random.choice(a=['control', 'manipulation'], size=n) # condition\n",
    "s = np.random.choice(a=stim_values, size=n) #stimulus evidence\n",
    "#simulate model\n",
    "r = simulate_modelB(s, c, sigma_d=sigma, Lambda=Lambda)\n",
    "exp_data = pd.DataFrame({'stimulus': s, 'condition':c, 'response':r})\n"
   ]
  },
  {
   "cell_type": "markdown",
   "id": "9072666a-0ec0-493d-8587-da65eb463362",
   "metadata": {},
   "source": [
    "---\n",
    "# II.1 Model validation\n",
    "\n",
    "\n",
    "As a very simple example for model validation, we will fit model A and B to the experimental data and compare how well the best-fitting model fits the psychometric curve.\n",
    "\n",
    "**Fit model B to the experimental data and show the model result and the psychometric curve.**\n"
   ]
  },
  {
   "cell_type": "code",
   "execution_count": 3,
   "id": "dcea98ec-3518-4b12-9173-4ae6526533a7",
   "metadata": {},
   "outputs": [
    {
     "data": {
      "image/png": "[encoded data removed]",
      "text/plain": [
       "<Figure size 432x288 with 1 Axes>"
      ]
     },
     "metadata": {
      "needs_background": "light"
     },
     "output_type": "display_data"
    }
   ],
   "source": [
    "\n",
    "# fit model B\n",
    "p_opt = optimize.minimize(lambda pp: -LogLikelihood_modelB(exp_data, pp[0], pp[1]), x0=[0.75, 0.1], bounds=[(0.1, 10), (0.01, 1)]).x\n",
    "\n",
    "# Retrieve the optimized parameters\n",
    "(sigma_d_hat, Lambda_hat) = p_opt\n",
    "\n",
    "# plot model predictions\n",
    "plot_model(lambda s,c: p_modelB(s,c,sigma_d=sigma_d_hat, Lambda=Lambda_hat))\n",
    "\n",
    "# plot psychometric curve on top\n",
    "plot_data_psychometric(exp_data)\n"
   ]
  },
  {
   "cell_type": "markdown",
   "id": "de116b21-2f5a-4011-b651-ab0b9f0ebf75",
   "metadata": {},
   "source": [
    "\n",
    "**Now fit model A to the experimental data and compare to the result obtained above.**\n"
   ]
  },
  {
   "cell_type": "code",
   "execution_count": 4,
   "id": "f1b09d40-4261-49a1-be53-20590297fad4",
   "metadata": {},
   "outputs": [
    {
     "data": {
      "image/png": "[encoded data removed]",
      "text/plain": [
       "<Figure size 432x288 with 1 Axes>"
      ]
     },
     "metadata": {
      "needs_background": "light"
     },
     "output_type": "display_data"
    }
   ],
   "source": [
    "# fit model A\n",
    "p_opt = optimize.minimize(lambda pp: -LogLikelihood_modelA(exp_data, pp[0], pp[1]), x0=[ 0.1, 0.1], bounds=[(0.01, 1), (0.1, 1)]).x\n",
    "\n",
    "# Retrieve the optimized parameters\n",
    "(sigma_d_hat, sigma_m__hat) = p_opt\n",
    "\n",
    "# plot model predictions\n",
    "plot_model(lambda s,c: p_modelA(s,c,sigma_d=sigma_d_hat, sigma_m=sigma_m__hat))\n",
    "\n",
    "# plot psychometric curve on top\n",
    "plot_data_psychometric(exp_data)\n"
   ]
  },
  {
   "cell_type": "markdown",
   "id": "1e08ee0b-5d87-4427-8fd2-70799964f8c3",
   "metadata": {},
   "source": [
    "\n",
    "Fitting the experimental data with model A that does not include lapses but a different $\\sigma_m$, we get a worse fit for all the data points and the slope of the fit does not seem right.\n",
    "\n",
    "Of course, this is trivial here because we now that the \"experimental data\" actually includes lapses. It is important to note that not including a lapse rate can lead to real-world problems when fitting psychometric functions. We will talk more about this further below.\n"
   ]
  },
  {
   "cell_type": "markdown",
   "id": "57a7e19a-008c-4743-88df-1093442b541c",
   "metadata": {},
   "source": [
    "In general, it is a good idea to show not only that the best-fitting model validates, but that the alternative models do NOT validate (often many models are validated on simple behavioral metrics, and we need of specific patterns of behavior to arbitrate between different models)."
   ]
  },
  {
   "cell_type": "markdown",
   "id": "a87803a4-5c1a-4e4d-af41-f6efa873c2ac",
   "metadata": {},
   "source": [
    "---\n",
    "# II.2. Parameter recovery\n"
   ]
  },
  {
   "cell_type": "markdown",
   "id": "22d3faf5-3641-4140-b6b7-5a6ead827dd0",
   "metadata": {},
   "source": [
    "## Simulation and fitting"
   ]
  },
  {
   "cell_type": "markdown",
   "id": "6f5e0c1d-51e1-4e35-b6ec-cca7eeaa8a4b",
   "metadata": {},
   "source": [
    "**Simulate Model B to generate synthetic data, then fit these data.**\n",
    "\n",
    "We will do this step by step. We will first simulate model B using `simulate_modelB` with different random parameters $\\sigma_d$ and $\\lambda$. Note that the parameter recovery result will depend on the probability distribution used to sample the parameters.\n",
    "\n",
    "After simulating the model, we will fit the parameters using a maximum likelihood approach to get estimated values $\\hat{\\sigma_d}$ and $\\hat{\\lambda}$. "
   ]
  },
  {
   "cell_type": "code",
   "execution_count": 18,
   "id": "47279f7a-ba0f-4971-86aa-3fde519df3b0",
   "metadata": {},
   "outputs": [],
   "source": [
    "# loop over at least 100 repetitions\n",
    "n_rep = 500\n",
    "\n",
    "# specify parameters of the experiment\n",
    "n = 2500  # number of trials\n",
    "stim_values = [-3, -2, -1, -.5, 0,.5, 1, 2, 3]  # all possible values of stimulus evidence (i.e. signed stim strength)\n",
    "\n",
    "# specify plaubsible range of model parameters\n",
    "sigma = list(np.arange(0, 3, 0.1))\n",
    "Lambda = list(np.arange(0, 0.4, 0.01))\n",
    "\n",
    "sigma_values = []\n",
    "lambda_values = []\n",
    "pars = np.zeros((2,n_rep))\n",
    "for i in range(n_rep):\n",
    "        \n",
    "    # first generate experimental conditions for each trial\n",
    "    c = np.random.choice(a=['control', 'manipulation'], size=n) # condition\n",
    "    s = np.random.choice(a=stim_values, size=n) #stimulus evidence\n",
    "\n",
    "    sigma_ = np.random.choice(a=sigma)\n",
    "    lambda_ = np.random.choice(a=Lambda)  \n",
    "    sigma_values.append(sigma_)\n",
    "    lambda_values.append(lambda_)\n",
    "    r = simulate_modelB(s, c, sigma_d = sigma_, Lambda = lambda_)\n",
    "    exp_data = pd.DataFrame({'stimulus': s, 'condition':c, 'response':r})\n",
    "   \n",
    "    # fit model B  \n",
    "    result = optimize.minimize(lambda pp: -LogLikelihood_modelB(exp_data, pp[0], pp[1]), x0=[0.75, 0.1], bounds=[(0.1, 10), (0.01, 1)]).x\n",
    "    # store fitted parameters\n",
    "    pars[0,i] = result[0]\n",
    "    pars[1,i] = result[1]\n",
    "\n"
   ]
  },
  {
   "cell_type": "markdown",
   "id": "5848b36c-0d96-4350-8037-85770190ca77",
   "metadata": {},
   "source": [
    "## Parameter recovery plots"
   ]
  },
  {
   "cell_type": "markdown",
   "id": "a97e25aa-736a-48f8-b73d-fd591f07acf3",
   "metadata": {},
   "source": [
    "We would like to visualise the fitted parameter values as a function of the generating parameter values. We will have one data point for each iteration. Here, you should use the generating values and the fitted values that you have stored in the section above. You should create two subplots, one for each parameter. Do you observe a fairly good agreement between the simulated and fit parameter values?"
   ]
  },
  {
   "cell_type": "code",
   "execution_count": 19,
   "id": "3f7415e0-7e2c-4633-bb1a-f05ed95a0ec1",
   "metadata": {},
   "outputs": [
    {
     "data": {
      "image/png": "[encoded data removed]",
      "text/plain": [
       "<Figure size 864x288 with 3 Axes>"
      ]
     },
     "metadata": {
      "needs_background": "light"
     },
     "output_type": "display_data"
    }
   ],
   "source": [
    "\n",
    "fig, axs = plt.subplots(1, 3, figsize=(12, 4))  # 1 row, 3 columns\n",
    "# First subplot\n",
    "axs[0].scatter(sigma_values, pars[ 0])  # Example data\n",
    "axs[0].set_title('Noise standard deviation')\n",
    "axs[0].set_xlabel('true sigma')\n",
    "axs[0].set_ylabel('predicted sigma')\n",
    "\n",
    "# Second subplot\n",
    "axs[1].scatter(lambda_values, pars[ 1]) \n",
    "axs[1].set_title('Lapse rate')\n",
    "axs[1].set_xlabel('true lambda')\n",
    "axs[1].set_ylabel('predicted lambda')\n",
    "\n",
    "# Third subplot\n",
    "axs[2].scatter(pars[ 0], pars[1]) \n",
    "axs[2].set_title('Correlation between fitted parameters')\n",
    "axs[2].set_xlabel('fitted sigma')\n",
    "axs[2].set_ylabel('fitted lambda')\n",
    "\n",
    "# Adjust layout so titles and labels don't overlap\n",
    "plt.tight_layout()\n",
    "\n",
    "# Show the figure\n",
    "plt.show()\n",
    "\n",
    "\n",
    "\n",
    "\n",
    "\n",
    "\n",
    "\n"
   ]
  },
  {
   "cell_type": "markdown",
   "id": "dcce7262-9d90-4309-8dc0-8bdebecdf404",
   "metadata": {},
   "source": [
    "\n",
    "These plots show strong correlation between true and fitted paramters and also reveal whether the correlation holds in some parameter regimes but not others. It also reveals any existing bias (e.g. a tendency to recover higher or lower values in average) which does not seem to be the case here.\n",
    "\n",
    "Depending on the parameter values that we obtain when fitting human behavior, the worse correspondence in some parameter range may or may not be problematic. It is be a good idea to use the range of parameters obtained from fitting the real data to test the quality of recovery within the range that matters. \n",
    "\n",
    "Reliable parameter recovery is particularly important for look at inter-individual differences in relation to questionnaire scores or brain data.\n"
   ]
  },
  {
   "cell_type": "markdown",
   "id": "6033cf92-748f-4433-ab00-01781f07ea85",
   "metadata": {},
   "source": [
    " **Optional:** Include a third subplot which shows a scatterplot of the fitted parameters $\\sigma$ and $\\lambda$. Also compute the correlation between the two parameters. How do you interpret the result?"
   ]
  },
  {
   "cell_type": "code",
   "execution_count": 21,
   "id": "c344bbac-fd0f-4b2d-9fd5-dc01671bdc12",
   "metadata": {},
   "outputs": [
    {
     "name": "stdout",
     "output_type": "stream",
     "text": [
      "Pearson correlation coefficient: 0.011600148586448032\n",
      "P-value: 0.7958306856976302\n"
     ]
    }
   ],
   "source": [
    "\n",
    "#0.0068, 0.87\n",
    "corr_coefficient, p_value = pearsonr(pars[0], pars[1])\n",
    "print(f'Pearson correlation coefficient: {corr_coefficient}')\n",
    "print(f'P-value: {p_value}')\n",
    "\n",
    "\n"
   ]
  },
  {
   "cell_type": "markdown",
   "id": "a83f1e8b-8166-4b96-a5c2-491972fb8e61",
   "metadata": {},
   "source": [
    "The fitted parameters are not correlated, indicating that our parameters are identifyable (they cannot be trade-off against each other)"
   ]
  },
  {
   "cell_type": "markdown",
   "id": "2aa96734-6ce9-4176-b91a-90d56e09d000",
   "metadata": {},
   "source": [
    "---\n",
    "# II.3 Parameter uncertainty estimation (bootstrap)"
   ]
  },
  {
   "cell_type": "markdown",
   "id": "1b144676-66c1-4833-8855-657e1118a9e5",
   "metadata": {},
   "source": [
    "\n",
    "[Bootstrapping](https://en.wikipedia.org/wiki/Bootstrapping_(statistics)) is a widely applicable method to assess confidence/uncertainty about estimated parameters, it was originally [proposed](https://projecteuclid.org/euclid.aos/1176344552) by [Bradley Efron](https://en.wikipedia.org/wiki/Bradley_Efron). The idea is to generate many new synthetic datasets from the initial true dataset by randomly sampling from it, then finding estimators for each one of these new datasets, and finally looking at the distribution of all these estimators to quantify our confidence.\n",
    "\n",
    "Note that each new resampled datasets will be the same size as our original one, with the new data points sampled with replacement i.e. we can repeat the same data point multiple times. Also note that in practice we need a lot of resampled datasets.\n",
    "\n",
    "To explore this idea, we will work againg wit the \"experimental data\" generated above (the DataFrame `exp_data`).\n",
    "\n",
    "\n",
    "**Generate resampled data and display the psychometric curves for the original and the resampled data.** Repeat this several times to get a feeling for the \"randomness\", that is how different the resampled data is from the original data.\n"
   ]
  },
  {
   "cell_type": "code",
   "execution_count": 23,
   "id": "8d1dc31a-3769-415b-b95e-b7d51cffc178",
   "metadata": {},
   "outputs": [
    {
     "data": {
      "image/png": "[encoded data removed]",
      "text/plain": [
       "<Figure size 432x288 with 1 Axes>"
      ]
     },
     "metadata": {
      "needs_background": "light"
     },
     "output_type": "display_data"
    }
   ],
   "source": [
    "\n",
    "bootstrap_sample = exp_data.sample(n=len(exp_data), replace=True)\n",
    "\n",
    "# plot psychometric curve\n",
    "plot_data_psychometric(exp_data)\n",
    "plot_data_psychometric(bootstrap_sample)\n",
    "plt.legend(('Original','Resampled'));\n"
   ]
  },
  {
   "cell_type": "markdown",
   "id": "1d216e24-7958-45d9-bfba-30838074ee04",
   "metadata": {},
   "source": [
    "## Generate bootstrap estimates\n",
    "\n",
    "In this exercise you will implement a method to run the bootstrap process of generating a set of fitted parameters from a dataset.\n"
   ]
  },
  {
   "cell_type": "markdown",
   "id": "ced3b6e6-9b09-465c-bb31-53e9c7be3981",
   "metadata": {},
   "source": [
    "We will do this for model B, that is, we will fit the model B and return an array with the fitted parameters $\\sigma_m$ and $\\lambda$.\n"
   ]
  },
  {
   "cell_type": "code",
   "execution_count": 24,
   "id": "926bea3c-79a2-42e7-8960-341d60d22a58",
   "metadata": {},
   "outputs": [],
   "source": [
    "def bootstrap_estimates(data, n=2000):\n",
    "  \"\"\"Generate a set of theta_hat estimates using the bootstrap method.\n",
    "  Args:\n",
    "    data (DataFrame)\n",
    "    n (int): The number of estimates to compute\n",
    "  Returns:\n",
    "    ndarray: An array of estimated parameters with size (n,)\n",
    "  \"\"\"\n",
    "\n",
    "  theta_hats = np.zeros((n,2))\n",
    "\n",
    "  # Loop over number of estimates\n",
    "  for i in range(n):\n",
    "\n",
    "    # Resample data\n",
    "    bootstrap_sample = exp_data.sample(n=len(exp_data), replace=True)\n",
    "    \n",
    "    # Compute theta_hat for this sample\n",
    "    result = optimize.minimize(lambda pp: -LogLikelihood_modelB(bootstrap_sample, pp[0], pp[1]), x0=[0.75, 0.1], bounds=[(0.1, 10), (0.01, 1)]).x\n",
    "    theta_hats[i,:] =result\n",
    "\n",
    "  return theta_hats\n",
    "\n",
    "# Get bootstrap estimates (generate only 3 bootstrap samples for a quick check if everything works)\n",
    "theta_hats = bootstrap_estimates(exp_data, n=500)\n"
   ]
  },
  {
   "cell_type": "markdown",
   "id": "821c863c-54be-4868-8e5b-e90294e96288",
   "metadata": {},
   "source": [
    "## Plot bootstrap samples and confidence intervals\n",
    "\n",
    "Let us now quantify how uncertain our estimated parameters ($\\sigma_m$ and $\\lambda$) are. We do so by computing confidence intervals from our bootstrapped estimates. The most direct approach is to compute percentiles from the empirical distribution of bootstrapped estimates. Note that this is widely applicable as we are not assuming that this empirical distribution is Gaussian.\n"
   ]
  },
  {
   "cell_type": "code",
   "execution_count": 29,
   "id": "bcb082eb-b76b-4e69-a584-86bb70317aa0",
   "metadata": {},
   "outputs": [
    {
     "name": "stdout",
     "output_type": "stream",
     "text": [
      "[0.04555177 0.02479617]\n"
     ]
    },
    {
     "data": {
      "image/png": "[encoded data removed]",
      "text/plain": [
       "<Figure size 864x360 with 2 Axes>"
      ]
     },
     "metadata": {
      "needs_background": "light"
     },
     "output_type": "display_data"
    }
   ],
   "source": [
    "\n",
    "means = np.mean(theta_hats,axis=0)\n",
    "stds = np.std(theta_hats,axis=0)\n",
    "medians = np.median(theta_hats, axis=0)  # compute medians\n",
    "std_dev = np.std(theta_hats, axis=0)\n",
    "# Critical z-value for 95% confidence level (for normal distribution)\n",
    "z = 1.96\n",
    "n=2 #????\n",
    "\n",
    "# Compute the margin of error for each column\n",
    "margin_of_error = z * (std_dev / np.sqrt(n))\n",
    "print(margin_of_error)\n",
    "# Calculate the 95% confidence intervals\n",
    "ci_lower = means - margin_of_error\n",
    "ci_upper = means + margin_of_error\n",
    "\n",
    "\n",
    "fig, ax = plt.subplots(ncols=2, figsize=(12, 5))\n",
    "\n",
    "for i in range(2):\n",
    "    ax[i].hist(theta_hats[:,i], bins=20, facecolor='C1', alpha=0.75);\n",
    "    ax[i].axvline(medians[i], color='r', label='Median')\n",
    "    ax[i].axvline(ci_lower[i], color='b', label='95% CI')\n",
    "    ax[i].axvline(ci_upper[i], color='b')\n",
    "\n",
    "    \n",
    "    \n",
    "    ax[i].legend()\n",
    "    ax[i].set(\n",
    "        title='Bootstrapped Confidence Interval for parameter '+str(i),\n",
    "        xlabel=r'$\\hat{{w_' + str(i) +'}}$',\n",
    "        ylabel='count');\n"
   ]
  },
  {
   "cell_type": "code",
   "execution_count": 30,
   "id": "dd7056e5",
   "metadata": {},
   "outputs": [
    {
     "data": {
      "text/plain": [
       "array([[0.21194496, 0.17453595],\n",
       "       [0.1       , 0.22201822],\n",
       "       [0.23204839, 0.19991589],\n",
       "       [0.22781724, 0.21239234],\n",
       "       [0.21471713, 0.16418524],\n",
       "       [0.23079603, 0.20333179],\n",
       "       [0.23879641, 0.21885483],\n",
       "       [0.22112298, 0.22339415],\n",
       "       [0.21132409, 0.20185706],\n",
       "       [0.1       , 0.21922715],\n",
       "       [0.21435383, 0.17899491],\n",
       "       [0.24166487, 0.17938294],\n",
       "       [0.21273337, 0.20008403],\n",
       "       [0.18755347, 0.19451253],\n",
       "       [0.24683431, 0.20596992],\n",
       "       [0.20971937, 0.18328506],\n",
       "       [0.18711227, 0.19652665],\n",
       "       [0.20386173, 0.18200733],\n",
       "       [0.22791603, 0.2058996 ],\n",
       "       [0.22501907, 0.18705586],\n",
       "       [0.21703135, 0.17618188],\n",
       "       [0.21213919, 0.16839732],\n",
       "       [0.1       , 0.19786082],\n",
       "       [0.22637409, 0.21934724],\n",
       "       [0.2302303 , 0.21127321],\n",
       "       [0.23001247, 0.17393924],\n",
       "       [0.20753135, 0.19255686],\n",
       "       [0.18747144, 0.19660574],\n",
       "       [0.21761338, 0.19369854],\n",
       "       [0.20323168, 0.19616772],\n",
       "       [0.20551165, 0.18735036],\n",
       "       [0.20019525, 0.17598314],\n",
       "       [0.1846398 , 0.22373775],\n",
       "       [0.234755  , 0.20225592],\n",
       "       [0.18343481, 0.19444532],\n",
       "       [0.23448888, 0.20937303],\n",
       "       [0.23045418, 0.16198663],\n",
       "       [0.1       , 0.17866894],\n",
       "       [0.23640634, 0.17869181],\n",
       "       [0.21617226, 0.17836318],\n",
       "       [0.22866484, 0.17930359],\n",
       "       [0.24541601, 0.22953108],\n",
       "       [0.23825898, 0.19725395],\n",
       "       [0.20859311, 0.20892999],\n",
       "       [0.23563438, 0.16617051],\n",
       "       [0.18472453, 0.17833483],\n",
       "       [0.20995725, 0.20878233],\n",
       "       [0.23703278, 0.16013588],\n",
       "       [0.20494896, 0.17660889],\n",
       "       [0.22268379, 0.17712023],\n",
       "       [0.19200877, 0.1811688 ],\n",
       "       [0.219936  , 0.15659402],\n",
       "       [0.20402485, 0.19277766],\n",
       "       [0.2538919 , 0.18927961],\n",
       "       [0.21775753, 0.20514355],\n",
       "       [0.25127231, 0.19376046],\n",
       "       [0.21055144, 0.19805628],\n",
       "       [0.18396089, 0.20474211],\n",
       "       [0.2077865 , 0.19151983],\n",
       "       [0.20291278, 0.18397897],\n",
       "       [0.1       , 0.18498154],\n",
       "       [0.21421589, 0.20967776],\n",
       "       [0.19032485, 0.22033245],\n",
       "       [0.21560552, 0.19403445],\n",
       "       [0.23845223, 0.18686999],\n",
       "       [0.23118789, 0.17449178],\n",
       "       [0.23298892, 0.20085265],\n",
       "       [0.18706872, 0.17311539],\n",
       "       [0.21221329, 0.16086668],\n",
       "       [0.21589989, 0.18242223],\n",
       "       [0.2312829 , 0.18065749],\n",
       "       [0.23751235, 0.16282901],\n",
       "       [0.23782726, 0.20343649],\n",
       "       [0.24166355, 0.18870565],\n",
       "       [0.19564548, 0.18800306],\n",
       "       [0.27093409, 0.13339867],\n",
       "       [0.1       , 0.18579227],\n",
       "       [0.24207756, 0.19914984],\n",
       "       [0.25153818, 0.17264413],\n",
       "       [0.25081484, 0.18129938],\n",
       "       [0.22624664, 0.1604944 ],\n",
       "       [0.23989405, 0.18731333],\n",
       "       [0.22560745, 0.18510665],\n",
       "       [0.23166788, 0.17896915],\n",
       "       [0.1       , 0.18755623],\n",
       "       [0.21583327, 0.21083586],\n",
       "       [0.18768123, 0.19174873],\n",
       "       [0.21430064, 0.17725556],\n",
       "       [0.22962305, 0.18525932],\n",
       "       [0.1       , 0.20037095],\n",
       "       [0.23842905, 0.2083226 ],\n",
       "       [0.21732126, 0.22462375],\n",
       "       [0.23149141, 0.18799606],\n",
       "       [0.18699338, 0.19266661],\n",
       "       [0.23845573, 0.19159064],\n",
       "       [0.2088962 , 0.17818197],\n",
       "       [0.21720024, 0.21915316],\n",
       "       [0.19162711, 0.18284536],\n",
       "       [0.20710119, 0.15803883],\n",
       "       [0.1       , 0.20287239],\n",
       "       [0.24029193, 0.21092854],\n",
       "       [0.206667  , 0.16872273],\n",
       "       [0.22817183, 0.17719742],\n",
       "       [0.24168858, 0.19463666],\n",
       "       [0.19910206, 0.1921136 ],\n",
       "       [0.19066661, 0.20929995],\n",
       "       [0.20954813, 0.16602358],\n",
       "       [0.22242046, 0.18787177],\n",
       "       [0.2314024 , 0.15226838],\n",
       "       [0.20516634, 0.17045414],\n",
       "       [0.22318424, 0.19343244],\n",
       "       [0.22331803, 0.21250405],\n",
       "       [0.20634561, 0.16772652],\n",
       "       [0.22763116, 0.19248031],\n",
       "       [0.23641582, 0.17387164],\n",
       "       [0.24780364, 0.18391121],\n",
       "       [0.22346957, 0.17682772],\n",
       "       [0.20524203, 0.18405024],\n",
       "       [0.20825374, 0.1978414 ],\n",
       "       [0.22817759, 0.1600316 ],\n",
       "       [0.20235033, 0.19635777],\n",
       "       [0.22686065, 0.16061651],\n",
       "       [0.20342744, 0.1889618 ],\n",
       "       [0.24391333, 0.14964867],\n",
       "       [0.22497787, 0.18855914],\n",
       "       [0.24311958, 0.16422409],\n",
       "       [0.25380015, 0.17642148],\n",
       "       [0.22217991, 0.16540443],\n",
       "       [0.21031546, 0.20079913],\n",
       "       [0.19232755, 0.17787462],\n",
       "       [0.1       , 0.21378077],\n",
       "       [0.18849285, 0.17417832],\n",
       "       [0.19548653, 0.18255609],\n",
       "       [0.21667852, 0.18039457],\n",
       "       [0.24581673, 0.18941379],\n",
       "       [0.21803531, 0.18731749],\n",
       "       [0.20593804, 0.17327861],\n",
       "       [0.20278   , 0.20142615],\n",
       "       [0.24133939, 0.16397783],\n",
       "       [0.23833702, 0.19199598],\n",
       "       [0.20920927, 0.18434134],\n",
       "       [0.22497785, 0.17065989],\n",
       "       [0.19414732, 0.20039858],\n",
       "       [0.23987636, 0.16799902],\n",
       "       [0.23896276, 0.15619786],\n",
       "       [0.22860458, 0.17739984],\n",
       "       [0.21507856, 0.21825039],\n",
       "       [0.20424624, 0.21328108],\n",
       "       [0.23596518, 0.22440027],\n",
       "       [0.20071825, 0.18917203],\n",
       "       [0.20454003, 0.19529847],\n",
       "       [0.21426671, 0.18011771],\n",
       "       [0.22887568, 0.19877221],\n",
       "       [0.23579568, 0.16463157],\n",
       "       [0.20743764, 0.20349649],\n",
       "       [0.19940755, 0.21056776],\n",
       "       [0.22809237, 0.1734032 ],\n",
       "       [0.21484799, 0.18882488],\n",
       "       [0.24051947, 0.18033457],\n",
       "       [0.21347671, 0.17426406],\n",
       "       [0.23223746, 0.18104242],\n",
       "       [0.26323567, 0.18923888],\n",
       "       [0.23362075, 0.1759748 ],\n",
       "       [0.21885331, 0.19041115],\n",
       "       [0.21172517, 0.15790198],\n",
       "       [0.1872691 , 0.21028824],\n",
       "       [0.2175381 , 0.21013025],\n",
       "       [0.19025568, 0.20809948],\n",
       "       [0.20675421, 0.20029435],\n",
       "       [0.18434004, 0.18738092],\n",
       "       [0.21409139, 0.15749589],\n",
       "       [0.21530375, 0.19396165],\n",
       "       [0.18762589, 0.18205786],\n",
       "       [0.22131429, 0.17083415],\n",
       "       [0.21543684, 0.2074018 ],\n",
       "       [0.22604658, 0.18512238],\n",
       "       [0.2217679 , 0.19272582],\n",
       "       [0.21623675, 0.20308109],\n",
       "       [0.1885957 , 0.2191965 ],\n",
       "       [0.22059344, 0.20252629],\n",
       "       [0.21551568, 0.18789772],\n",
       "       [0.21004811, 0.20447603],\n",
       "       [0.18938963, 0.19664881],\n",
       "       [0.20951946, 0.16380037],\n",
       "       [0.18671664, 0.20151649],\n",
       "       [0.22423626, 0.17925655],\n",
       "       [0.20944277, 0.21114859],\n",
       "       [0.1       , 0.20271478],\n",
       "       [0.19381614, 0.17341628],\n",
       "       [0.18885354, 0.18591403],\n",
       "       [0.24814606, 0.19988446],\n",
       "       [0.24927573, 0.23525146],\n",
       "       [0.22225362, 0.17880637],\n",
       "       [0.18700838, 0.19340877],\n",
       "       [0.21726878, 0.19408324],\n",
       "       [0.19742947, 0.16683534],\n",
       "       [0.23738253, 0.18306118],\n",
       "       [0.21266432, 0.202134  ],\n",
       "       [0.2283821 , 0.17193773],\n",
       "       [0.21796285, 0.1997018 ],\n",
       "       [0.23151256, 0.20047385],\n",
       "       [0.21396705, 0.201998  ],\n",
       "       [0.19322122, 0.20048386],\n",
       "       [0.22878158, 0.20708367],\n",
       "       [0.23868168, 0.18766824],\n",
       "       [0.20451019, 0.2065502 ],\n",
       "       [0.27017073, 0.17484052],\n",
       "       [0.21236631, 0.23261663],\n",
       "       [0.21153834, 0.20797189],\n",
       "       [0.24014733, 0.16538109],\n",
       "       [0.2383413 , 0.17168533],\n",
       "       [0.24674776, 0.18207129],\n",
       "       [0.24667784, 0.1881462 ],\n",
       "       [0.22186418, 0.15576292],\n",
       "       [0.21318868, 0.21119276],\n",
       "       [0.19116227, 0.17016561],\n",
       "       [0.22288705, 0.21429146],\n",
       "       [0.22722786, 0.16846349],\n",
       "       [0.21719436, 0.18754486],\n",
       "       [0.20677839, 0.18294171],\n",
       "       [0.1       , 0.21980002],\n",
       "       [0.24593636, 0.17846088],\n",
       "       [0.18675476, 0.17979242],\n",
       "       [0.2424199 , 0.17772148],\n",
       "       [0.20579755, 0.19554921],\n",
       "       [0.19459531, 0.1852026 ],\n",
       "       [0.22606253, 0.18612508],\n",
       "       [0.21244287, 0.19411049],\n",
       "       [0.20939743, 0.20192013],\n",
       "       [0.19740217, 0.21602017],\n",
       "       [0.22993479, 0.20650696],\n",
       "       [0.21354506, 0.19553227],\n",
       "       [0.1       , 0.19366496],\n",
       "       [0.2143167 , 0.18410055],\n",
       "       [0.22810809, 0.17902427],\n",
       "       [0.22224943, 0.20220859],\n",
       "       [0.22829162, 0.18183664],\n",
       "       [0.20321935, 0.1919937 ],\n",
       "       [0.21906769, 0.2078121 ],\n",
       "       [0.2032176 , 0.19198748],\n",
       "       [0.2160644 , 0.22228765],\n",
       "       [0.2459285 , 0.17077858],\n",
       "       [0.22575773, 0.14565122],\n",
       "       [0.22820795, 0.18574007],\n",
       "       [0.22985693, 0.21145137],\n",
       "       [0.2143305 , 0.175409  ],\n",
       "       [0.20187386, 0.21809175],\n",
       "       [0.23112791, 0.19162756],\n",
       "       [0.18628046, 0.17968836],\n",
       "       [0.21641388, 0.19857133],\n",
       "       [0.21779165, 0.16637556],\n",
       "       [0.18563407, 0.20852258],\n",
       "       [0.22227866, 0.16788325],\n",
       "       [0.21941904, 0.1795836 ],\n",
       "       [0.20264569, 0.19737018],\n",
       "       [0.24483835, 0.19688727],\n",
       "       [0.19777466, 0.18623349],\n",
       "       [0.24295956, 0.21426455],\n",
       "       [0.18727502, 0.1568966 ],\n",
       "       [0.21286498, 0.19788934],\n",
       "       [0.21522127, 0.18066192],\n",
       "       [0.18802094, 0.19660366],\n",
       "       [0.18309496, 0.1897559 ],\n",
       "       [0.21363613, 0.15904554],\n",
       "       [0.24850731, 0.17601901],\n",
       "       [0.20971765, 0.19975085],\n",
       "       [0.21131504, 0.19084145],\n",
       "       [0.18555625, 0.18504505],\n",
       "       [0.1       , 0.18884876],\n",
       "       [0.19241252, 0.17992522],\n",
       "       [0.21620278, 0.16663887],\n",
       "       [0.2325477 , 0.21794914],\n",
       "       [0.24465909, 0.1643778 ],\n",
       "       [0.21908641, 0.17944881],\n",
       "       [0.23245715, 0.2211504 ],\n",
       "       [0.17944566, 0.20022411],\n",
       "       [0.20750429, 0.1661254 ],\n",
       "       [0.23906892, 0.17089255],\n",
       "       [0.18830983, 0.1956009 ],\n",
       "       [0.23620032, 0.17226185],\n",
       "       [0.1       , 0.18689941],\n",
       "       [0.20623167, 0.16997975],\n",
       "       [0.19490502, 0.18734911],\n",
       "       [0.24375526, 0.17688193],\n",
       "       [0.1       , 0.15495479],\n",
       "       [0.23225864, 0.21468545],\n",
       "       [0.21576702, 0.18279442],\n",
       "       [0.18848253, 0.17437552],\n",
       "       [0.23617183, 0.18281286],\n",
       "       [0.22180922, 0.16243813],\n",
       "       [0.21851679, 0.18725973],\n",
       "       [0.24378624, 0.2090078 ],\n",
       "       [0.21031278, 0.19975186],\n",
       "       [0.22366145, 0.18329845],\n",
       "       [0.19295704, 0.21529675],\n",
       "       [0.20761318, 0.21582941],\n",
       "       [0.23824696, 0.16886123],\n",
       "       [0.23531833, 0.19090928],\n",
       "       [0.18854004, 0.21833553],\n",
       "       [0.1946117 , 0.18433655],\n",
       "       [0.23079204, 0.19356406],\n",
       "       [0.22219782, 0.16453154],\n",
       "       [0.1       , 0.16341013],\n",
       "       [0.24189603, 0.17617689],\n",
       "       [0.27087121, 0.18697703],\n",
       "       [0.22887411, 0.18207016],\n",
       "       [0.20146178, 0.21794572],\n",
       "       [0.22144124, 0.18169234],\n",
       "       [0.23815137, 0.1849297 ],\n",
       "       [0.18644891, 0.22318114],\n",
       "       [0.20760511, 0.18927855],\n",
       "       [0.22005219, 0.19558671],\n",
       "       [0.1891011 , 0.18226822],\n",
       "       [0.21402552, 0.17278384],\n",
       "       [0.18663444, 0.18519334],\n",
       "       [0.23591724, 0.18891882],\n",
       "       [0.19021287, 0.19824254],\n",
       "       [0.23117418, 0.19349259],\n",
       "       [0.19667162, 0.21148585],\n",
       "       [0.22310364, 0.19602358],\n",
       "       [0.23369112, 0.18344085],\n",
       "       [0.23219678, 0.16477996],\n",
       "       [0.18726537, 0.19002153],\n",
       "       [0.21948742, 0.17571037],\n",
       "       [0.23724201, 0.16995378],\n",
       "       [0.20500448, 0.20217039],\n",
       "       [0.2016981 , 0.21590301],\n",
       "       [0.1895068 , 0.17568206],\n",
       "       [0.19034512, 0.1876272 ],\n",
       "       [0.21837768, 0.14625151],\n",
       "       [0.22773802, 0.19374409],\n",
       "       [0.2195888 , 0.21125989],\n",
       "       [0.20453821, 0.22564718],\n",
       "       [0.22045271, 0.18233569],\n",
       "       [0.21221528, 0.18985573],\n",
       "       [0.2294237 , 0.19030737],\n",
       "       [0.24358958, 0.20425662],\n",
       "       [0.20988117, 0.19527748],\n",
       "       [0.21936515, 0.17325029],\n",
       "       [0.1       , 0.19852921],\n",
       "       [0.1       , 0.18817192],\n",
       "       [0.23536448, 0.17824143],\n",
       "       [0.21425511, 0.18366745],\n",
       "       [0.20704518, 0.20005909],\n",
       "       [0.21420464, 0.22375216],\n",
       "       [0.21553241, 0.17661685],\n",
       "       [0.20461636, 0.1849335 ],\n",
       "       [0.18668196, 0.19041787],\n",
       "       [0.2266732 , 0.17565676],\n",
       "       [0.21814181, 0.22030848],\n",
       "       [0.23973964, 0.19868824],\n",
       "       [0.1907993 , 0.17721389],\n",
       "       [0.20373353, 0.16962182],\n",
       "       [0.23401192, 0.18405861],\n",
       "       [0.20230289, 0.17737035],\n",
       "       [0.1       , 0.17805742],\n",
       "       [0.23739563, 0.18537736],\n",
       "       [0.23676404, 0.2039812 ],\n",
       "       [0.25233138, 0.17519733],\n",
       "       [0.21669581, 0.18289261],\n",
       "       [0.21967283, 0.20984619],\n",
       "       [0.20060214, 0.19127315],\n",
       "       [0.23030656, 0.19679105],\n",
       "       [0.23935947, 0.18677668],\n",
       "       [0.19913396, 0.17711219],\n",
       "       [0.1838026 , 0.19165639],\n",
       "       [0.1       , 0.20218564],\n",
       "       [0.20743913, 0.18536351],\n",
       "       [0.23879489, 0.20765416],\n",
       "       [0.1879585 , 0.22288174],\n",
       "       [0.22106737, 0.16874929],\n",
       "       [0.23101333, 0.19929112],\n",
       "       [0.19480475, 0.15201803],\n",
       "       [0.21565926, 0.20487242],\n",
       "       [0.20874946, 0.177663  ],\n",
       "       [0.24024098, 0.20488639],\n",
       "       [0.22875949, 0.22212362],\n",
       "       [0.2570159 , 0.21881936],\n",
       "       [0.25257822, 0.17242982],\n",
       "       [0.1       , 0.22401425],\n",
       "       [0.22307475, 0.22969152],\n",
       "       [0.1       , 0.19417469],\n",
       "       [0.21165104, 0.1494337 ],\n",
       "       [0.20129864, 0.18757227],\n",
       "       [0.23005689, 0.1797565 ],\n",
       "       [0.18678087, 0.16943036],\n",
       "       [0.25385345, 0.17519618],\n",
       "       [0.2363715 , 0.22473919],\n",
       "       [0.21189453, 0.20726578],\n",
       "       [0.22844977, 0.15516007],\n",
       "       [0.20864588, 0.19248342],\n",
       "       [0.24542816, 0.18884396],\n",
       "       [0.1       , 0.21415913],\n",
       "       [0.18682362, 0.15182832],\n",
       "       [0.25369207, 0.17167938],\n",
       "       [0.25522137, 0.15436749],\n",
       "       [0.21437065, 0.20119849],\n",
       "       [0.2027016 , 0.20775256],\n",
       "       [0.22311788, 0.19137526],\n",
       "       [0.22825903, 0.16894482],\n",
       "       [0.21590445, 0.16364968],\n",
       "       [0.21433545, 0.17703374],\n",
       "       [0.22155453, 0.15839672],\n",
       "       [0.23922932, 0.15542752],\n",
       "       [0.24039078, 0.15713446],\n",
       "       [0.22980093, 0.17076738],\n",
       "       [0.2205557 , 0.18416968],\n",
       "       [0.22041789, 0.20174977],\n",
       "       [0.18461094, 0.16334838],\n",
       "       [0.20118343, 0.1844972 ],\n",
       "       [0.2065016 , 0.17089522],\n",
       "       [0.2301945 , 0.18715697],\n",
       "       [0.20502293, 0.19389768],\n",
       "       [0.24506769, 0.17732263],\n",
       "       [0.21125151, 0.1894359 ],\n",
       "       [0.18720401, 0.18371177],\n",
       "       [0.20055642, 0.20456128],\n",
       "       [0.18557164, 0.18711525],\n",
       "       [0.22834501, 0.18583574],\n",
       "       [0.20498496, 0.17954404],\n",
       "       [0.19141449, 0.17084979],\n",
       "       [0.2354925 , 0.21855977],\n",
       "       [0.2320031 , 0.19493179],\n",
       "       [0.18477922, 0.20269912],\n",
       "       [0.24342641, 0.15521644],\n",
       "       [0.25193575, 0.19732339],\n",
       "       [0.23971604, 0.17352961],\n",
       "       [0.23179397, 0.16679147],\n",
       "       [0.22665637, 0.17020223],\n",
       "       [0.20141972, 0.19749303],\n",
       "       [0.21611979, 0.18649116],\n",
       "       [0.24149525, 0.18003123],\n",
       "       [0.18612826, 0.18115468],\n",
       "       [0.23857055, 0.17978828],\n",
       "       [0.23153851, 0.15368644],\n",
       "       [0.21707738, 0.1740403 ],\n",
       "       [0.24128184, 0.17729821],\n",
       "       [0.2293427 , 0.16841982],\n",
       "       [0.21500854, 0.17836297],\n",
       "       [0.2036991 , 0.18807058],\n",
       "       [0.1       , 0.19529819],\n",
       "       [0.21967065, 0.17949526],\n",
       "       [0.24909017, 0.21136179],\n",
       "       [0.23056121, 0.21499689],\n",
       "       [0.21997026, 0.18449517],\n",
       "       [0.23294841, 0.15895835],\n",
       "       [0.22761956, 0.19242636],\n",
       "       [0.22624955, 0.15692446],\n",
       "       [0.23470644, 0.22055736],\n",
       "       [0.22082218, 0.18106171],\n",
       "       [0.1       , 0.20825837],\n",
       "       [0.2241912 , 0.16449448],\n",
       "       [0.22199721, 0.21039188],\n",
       "       [0.2436565 , 0.20401023],\n",
       "       [0.24051281, 0.17203299],\n",
       "       [0.20107364, 0.19015944],\n",
       "       [0.2117541 , 0.18752863],\n",
       "       [0.22172947, 0.13678612],\n",
       "       [0.24846205, 0.2011667 ],\n",
       "       [0.23291657, 0.18234134],\n",
       "       [0.18962352, 0.20550427],\n",
       "       [0.21778648, 0.18777605],\n",
       "       [0.22516512, 0.20289611],\n",
       "       [0.22082725, 0.1845805 ],\n",
       "       [0.18446529, 0.21049268],\n",
       "       [0.21145648, 0.17779186],\n",
       "       [0.19846592, 0.19410378],\n",
       "       [0.2397992 , 0.18370588],\n",
       "       [0.19832757, 0.18196885],\n",
       "       [0.19438895, 0.15574477],\n",
       "       [0.20621526, 0.1987426 ],\n",
       "       [0.21890861, 0.16045697],\n",
       "       [0.1856032 , 0.19889335],\n",
       "       [0.1867974 , 0.19916016],\n",
       "       [0.18765051, 0.18413938],\n",
       "       [0.2294547 , 0.17505311],\n",
       "       [0.24392499, 0.19982607],\n",
       "       [0.1884689 , 0.21677494],\n",
       "       [0.20550998, 0.18403706],\n",
       "       [0.22524851, 0.18459727],\n",
       "       [0.20576603, 0.17943649],\n",
       "       [0.1       , 0.20783945],\n",
       "       [0.23498581, 0.18406901],\n",
       "       [0.18809818, 0.17736195],\n",
       "       [0.23443781, 0.1928992 ],\n",
       "       [0.25084389, 0.1933613 ],\n",
       "       [0.20271951, 0.16929763],\n",
       "       [0.1       , 0.20348289],\n",
       "       [0.21598217, 0.16862466],\n",
       "       [0.24829403, 0.17317113],\n",
       "       [0.21546244, 0.16490452],\n",
       "       [0.22698869, 0.17008223],\n",
       "       [0.21751381, 0.18768122],\n",
       "       [0.24223434, 0.16407034],\n",
       "       [0.21854468, 0.16856914],\n",
       "       [0.18946345, 0.18127635],\n",
       "       [0.24681549, 0.20582027],\n",
       "       [0.22252162, 0.19589613],\n",
       "       [0.214428  , 0.14415767],\n",
       "       [0.25489173, 0.17164988]])"
      ]
     },
     "execution_count": 30,
     "metadata": {},
     "output_type": "execute_result"
    }
   ],
   "source": [
    "theta_hats"
   ]
  },
  {
   "cell_type": "markdown",
   "id": "4c91aa4b-ac55-4b3a-90ca-861264c30f44",
   "metadata": {},
   "source": [
    "## Illustrate bootstrap estimates (show fitted psychometric functions)\n",
    "\n",
    "Now that we have our bootstrap estimates, we can visualize all the potential models (models computed with different resampling) together to see how distributed they are. "
   ]
  },
  {
   "cell_type": "code",
   "execution_count": 32,
   "id": "54a90903-8ec9-415e-a2d2-960fdbbd51d3",
   "metadata": {},
   "outputs": [
    {
     "data": {
      "image/png": "[encoded data removed]",
      "text/plain": [
       "<Figure size 432x288 with 1 Axes>"
      ]
     },
     "metadata": {
      "needs_background": "light"
     },
     "output_type": "display_data"
    }
   ],
   "source": [
    "\n",
    "fig, ax = plt.subplots()\n",
    "\n",
    "# plot all model fits obtained from bootstrap samples\n",
    "for i, theta_hat in enumerate(theta_hats):\n",
    "    c = np.random.choice(a=['control', 'manipulation'], size=100) # condition\n",
    "    s = np.random.choice(a=stim_values, size=100) #stimulus evidence\n",
    "    #simulate model\n",
    "    plot_model(lambda s,c: p_modelB(s,c,sigma_d=theta_hat[ 0], Lambda=theta_hat[1]))\n",
    "    \n",
    "\n",
    "# make the lines transparant to get a feeling for the distribution of model fits\n",
    "for line in plt.gca().lines:\n",
    "    line.set_alpha(0.005)\n",
    "\n",
    "plot_data_psychometric(exp_data)\n"
   ]
  },
  {
   "cell_type": "markdown",
   "id": "69f6c9a6-ef3f-4830-8609-5a4229f752c1",
   "metadata": {},
   "source": [
    "\n",
    "## Summary of bootstrapping\n",
    "\n",
    "- Bootstrapping is a resampling procedure that allows to build confidence intervals around inferred parameter values\n",
    "- it is a widely applicable and very practical method that relies on computational power and pseudo-random number generators (as opposed to more classical approaches than depend on analytical derivations)\n",
    "- is non-parametric: the confidence intervals provided by statistical libraries are not always accurate because they assume an underlying gaussian distribution for parameters, which is not always the case."
   ]
  },
  {
   "cell_type": "markdown",
   "id": "cb95fb07-5287-408e-bfa5-fe2b5e0869c5",
   "metadata": {},
   "source": [
    "---\n",
    "# Optional part: Parameter trade-off between $\\lambda$ and $\\sigma$\n"
   ]
  },
  {
   "cell_type": "markdown",
   "id": "9385fdf0-aee0-4953-b48c-d2d61a788c72",
   "metadata": {},
   "source": [
    "Above we have run a parameter recover analysis for model B that has a fixed $\\sigma_c$ across the two experimental condtions, and only $\\lambda$ is different between the conditions. Here, we will consider a more interesting example, let's call it model C. In model C, we also allow $\\sigma_m$ to change between conditions, that is in the manipulated condition is now described by a $\\lambda$ and a $\\sigma_m$."
   ]
  },
  {
   "cell_type": "markdown",
   "id": "0566aec6-00db-47db-a76f-1d5a467662c5",
   "metadata": {},
   "source": [
    "To make the above code direclty reusable, we simplify a bit and only consider \"manipulation\" trials."
   ]
  },
  {
   "cell_type": "markdown",
   "id": "18ff0b6e-ee76-4a59-88e0-19de4a0f6faf",
   "metadata": {},
   "source": [
    "**What do you observe, when using model B to fit the data obtained by model C?**"
   ]
  }
 ],
 "metadata": {
  "kernelspec": {
   "display_name": "Python 3 (ipykernel)",
   "language": "python",
   "name": "python3"
  },
  "language_info": {
   "codemirror_mode": {
    "name": "ipython",
    "version": 3
   },
   "file_extension": ".py",
   "mimetype": "text/x-python",
   "name": "python",
   "nbconvert_exporter": "python",
   "pygments_lexer": "ipython3",
   "version": "3.9.12"
  }
 },
 "nbformat": 4,
 "nbformat_minor": 5
}
